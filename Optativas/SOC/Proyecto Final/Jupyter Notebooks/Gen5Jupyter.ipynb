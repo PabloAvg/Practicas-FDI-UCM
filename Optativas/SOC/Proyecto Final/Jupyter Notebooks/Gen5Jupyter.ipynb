{
 "cells": [
  {
   "cell_type": "markdown",
   "metadata": {},
   "source": [
    "# Generación 5\n",
    "#### Álvaro Corrochano López, Pablo Álvarez García y Antonio Fernández Martín"
   ]
  },
  {
   "cell_type": "code",
   "execution_count": 1,
   "metadata": {},
   "outputs": [],
   "source": [
    "import networkx as nx\n",
    "import itertools as it"
   ]
  },
  {
   "cell_type": "code",
   "execution_count": 2,
   "metadata": {},
   "outputs": [],
   "source": [
    "# Importo Beautiful Soup\n",
    "from bs4 import BeautifulSoup\n",
    "# Importo requests para pillar el código html de donde quiera\n",
    "import requests\n",
    "\n",
    "# Cogemos la Pokédex\n",
    "webDex = requests.get('https://pokemondb.net/pokedex/national')\n",
    "dexSoup  = BeautifulSoup(webDex.content, 'html.parser')"
   ]
  },
  {
   "cell_type": "code",
   "execution_count": 3,
   "metadata": {},
   "outputs": [],
   "source": [
    "pokedex = {}\n",
    "types = [['itype', 'grass'], ['itype', 'poison'], ['itype', 'fire'], ['itype', 'flying'], ['itype', 'water'], \n",
    "         ['itype', 'bug'], ['itype', 'normal'], ['itype', 'electric'], ['itype', 'ground'], ['itype', 'fairy'], \n",
    "         ['itype', 'fighting'], ['itype', 'psychic'], ['itype', 'rock'], ['itype', 'steel'], \n",
    "         ['itype', 'ice'], ['itype', 'ghost'], ['itype', 'dark'], ['itype', 'dragon']]\n",
    "\n",
    "for name in dexSoup.find_all('a'):\n",
    "    if name.get('class') == ['ent-name']:\n",
    "        pok = name.get_text()\n",
    "        pokedex[pok] = {'type1' : 'None', 'type2' : 'None'}\n",
    "    if name.get('class') in types:\n",
    "        if pokedex[pok]['type1'] == 'None':\n",
    "            pokedex[pok]['type1'] = name.get_text()\n",
    "        else:\n",
    "            pokedex[pok]['type2'] = name.get_text()"
   ]
  },
  {
   "cell_type": "markdown",
   "metadata": {},
   "source": [
    "# 1 vs 1 Teams"
   ]
  },
  {
   "cell_type": "code",
   "execution_count": 4,
   "metadata": {},
   "outputs": [],
   "source": [
    "teams = []\n",
    "apariciones = {}\n",
    "\n",
    "t1= []\n",
    " \n",
    "t1.append('Dragonite')\n",
    "t1.append('Slowbro')\n",
    "t1.append('Volcarona')\n",
    " \n",
    "teams.append(t1)\n",
    " \n",
    "t2= []\n",
    " \n",
    "t2.append('Scrafty')\n",
    "t2.append('Raikou')\n",
    "t2.append('Mew')\n",
    " \n",
    "teams.append(t2)\n",
    " \n",
    "t3= []\n",
    " \n",
    "t3.append('Meloetta')\n",
    "t3.append('Kyurem')\n",
    "t3.append('Scizor')\n",
    " \n",
    "teams.append(t3)\n",
    " \n",
    "t4= []\n",
    " \n",
    "t4.append('Dragonite')\n",
    "t4.append('Suicune')\n",
    "t4.append('Hydreigon')\n",
    " \n",
    "teams.append(t4)"
   ]
  },
  {
   "cell_type": "code",
   "execution_count": 5,
   "metadata": {},
   "outputs": [
    {
     "name": "stdout",
     "output_type": "stream",
     "text": [
      "[['Dragonite', 'Slowbro', 'Volcarona'], ['Scrafty', 'Raikou', 'Mew'], ['Meloetta', 'Kyurem', 'Scizor'], ['Dragonite', 'Suicune', 'Hydreigon']]\n"
     ]
    }
   ],
   "source": [
    "print(teams)"
   ]
  },
  {
   "cell_type": "code",
   "execution_count": 6,
   "metadata": {},
   "outputs": [],
   "source": [
    "G = nx.Graph()"
   ]
  },
  {
   "cell_type": "code",
   "execution_count": 7,
   "metadata": {},
   "outputs": [],
   "source": [
    "for team in teams:\n",
    "    for pok in team:\n",
    "        if(pok in apariciones):\n",
    "            apariciones[pok] += 1\n",
    "        else:\n",
    "            apariciones[pok] = 1\n",
    "        G.add_node(pok, type1 = pokedex[pok]['type1'], type2 = pokedex[pok]['type2'])"
   ]
  },
  {
   "cell_type": "code",
   "execution_count": 8,
   "metadata": {},
   "outputs": [],
   "source": [
    "edgeList = []\n",
    "for team in teams:\n",
    "    edgeList.append([x for x in it.combinations(team, 2)])"
   ]
  },
  {
   "cell_type": "code",
   "execution_count": 9,
   "metadata": {},
   "outputs": [
    {
     "data": {
      "text/plain": [
       "EdgeDataView([('Dragonite', 'Slowbro', 1), ('Dragonite', 'Volcarona', 1), ('Dragonite', 'Suicune', 1), ('Dragonite', 'Hydreigon', 1), ('Slowbro', 'Volcarona', 1), ('Scrafty', 'Raikou', 1), ('Scrafty', 'Mew', 1), ('Raikou', 'Mew', 1), ('Meloetta', 'Kyurem', 1), ('Meloetta', 'Scizor', 1), ('Kyurem', 'Scizor', 1), ('Suicune', 'Hydreigon', 1)])"
      ]
     },
     "execution_count": 9,
     "metadata": {},
     "output_type": "execute_result"
    }
   ],
   "source": [
    "for perm in edgeList :\n",
    "    for pokPair in perm :\n",
    "        if G.has_edge(pokPair[0], pokPair[1]):\n",
    "            G[pokPair[0]][pokPair[1]]['weight'] += 1\n",
    "        else:\n",
    "            G.add_edge(pokPair[0], pokPair[1], weight = 1)\n",
    "G.edges.data('weight')"
   ]
  },
  {
   "cell_type": "code",
   "execution_count": 10,
   "metadata": {},
   "outputs": [
    {
     "data": {
      "image/png": "[encoded data removed]",
      "text/plain": [
       "<Figure size 432x288 with 1 Axes>"
      ]
     },
     "metadata": {},
     "output_type": "display_data"
    }
   ],
   "source": [
    "nx.draw(G)"
   ]
  },
  {
   "cell_type": "markdown",
   "metadata": {},
   "source": [
    "# LC Teams"
   ]
  },
  {
   "cell_type": "code",
   "execution_count": 11,
   "metadata": {},
   "outputs": [],
   "source": [
    "teams = []\n",
    "\n",
    "t5= []\n",
    " \n",
    "t5.append('Mienfoo')\n",
    "t5.append('Frillish')\n",
    "t5.append('Porygon')\n",
    "t5.append('Carvanha')\n",
    "t5.append('Drilbur')\n",
    "t5.append('Budew')\n",
    " \n",
    "teams.append(t5)\n",
    " \n",
    "t6= []\n",
    " \n",
    "t6.append('Larvesta')\n",
    "t6.append('Carvanha')\n",
    "t6.append('Staryu')\n",
    "t6.append('Drilbur')\n",
    "t6.append('Timburr')\n",
    "t6.append('Abra')\n",
    " \n",
    "teams.append(t6)\n",
    " \n",
    "t7= []\n",
    " \n",
    "t7.append('Tirtouga')\n",
    "t7.append('Drilbur')\n",
    "t7.append('Snover')\n",
    "t7.append('Timburr')\n",
    "t7.append('Frillish')\n",
    "t7.append('Porygon')\n",
    " \n",
    "teams.append(t7)\n",
    " \n",
    "t8= []\n",
    " \n",
    "t8.append('Omanyte')\n",
    "t8.append('Tentacool')\n",
    "t8.append('Hippopotas')\n",
    "t8.append('Lileep')\n",
    "t8.append('Drifloon')\n",
    "t8.append('Vullaby')\n",
    " \n",
    "teams.append(t8)\n",
    " \n",
    "t9= []\n",
    " \n",
    "t9.append('Aipom')\n",
    "t9.append('Drilbur')\n",
    "t9.append('Magnemite')\n",
    "t9.append('Mienfoo')\n",
    "t9.append('Ferroseed')\n",
    "t9.append('Natu')\n",
    " \n",
    "teams.append(t9)"
   ]
  },
  {
   "cell_type": "code",
   "execution_count": 12,
   "metadata": {},
   "outputs": [],
   "source": [
    "for team in teams:\n",
    "    for pok in team:\n",
    "        if(pok in apariciones):\n",
    "            apariciones[pok] += 1\n",
    "        else:\n",
    "            apariciones[pok] = 1\n",
    "        G.add_node(pok, type1 = pokedex[pok]['type1'], type2 = pokedex[pok]['type2'])"
   ]
  },
  {
   "cell_type": "code",
   "execution_count": 13,
   "metadata": {},
   "outputs": [],
   "source": [
    "edgeList = []\n",
    "for team in teams:\n",
    "    edgeList.append([x for x in it.combinations(team, 2)])"
   ]
  },
  {
   "cell_type": "code",
   "execution_count": 14,
   "metadata": {},
   "outputs": [
    {
     "data": {
      "text/plain": [
       "EdgeDataView([('Dragonite', 'Slowbro', 1), ('Dragonite', 'Volcarona', 1), ('Dragonite', 'Suicune', 1), ('Dragonite', 'Hydreigon', 1), ('Slowbro', 'Volcarona', 1), ('Scrafty', 'Raikou', 1), ('Scrafty', 'Mew', 1), ('Raikou', 'Mew', 1), ('Meloetta', 'Kyurem', 1), ('Meloetta', 'Scizor', 1), ('Kyurem', 'Scizor', 1), ('Suicune', 'Hydreigon', 1), ('Mienfoo', 'Frillish', 1), ('Mienfoo', 'Porygon', 1), ('Mienfoo', 'Carvanha', 1), ('Mienfoo', 'Drilbur', 2), ('Mienfoo', 'Budew', 1), ('Mienfoo', 'Aipom', 1), ('Mienfoo', 'Magnemite', 1), ('Mienfoo', 'Ferroseed', 1), ('Mienfoo', 'Natu', 1), ('Frillish', 'Porygon', 2), ('Frillish', 'Carvanha', 1), ('Frillish', 'Drilbur', 2), ('Frillish', 'Budew', 1), ('Frillish', 'Tirtouga', 1), ('Frillish', 'Snover', 1), ('Frillish', 'Timburr', 1), ('Porygon', 'Carvanha', 1), ('Porygon', 'Drilbur', 2), ('Porygon', 'Budew', 1), ('Porygon', 'Tirtouga', 1), ('Porygon', 'Snover', 1), ('Porygon', 'Timburr', 1), ('Carvanha', 'Drilbur', 2), ('Carvanha', 'Budew', 1), ('Carvanha', 'Larvesta', 1), ('Carvanha', 'Staryu', 1), ('Carvanha', 'Timburr', 1), ('Carvanha', 'Abra', 1), ('Drilbur', 'Budew', 1), ('Drilbur', 'Larvesta', 1), ('Drilbur', 'Staryu', 1), ('Drilbur', 'Timburr', 2), ('Drilbur', 'Abra', 1), ('Drilbur', 'Tirtouga', 1), ('Drilbur', 'Snover', 1), ('Drilbur', 'Aipom', 1), ('Drilbur', 'Magnemite', 1), ('Drilbur', 'Ferroseed', 1), ('Drilbur', 'Natu', 1), ('Larvesta', 'Staryu', 1), ('Larvesta', 'Timburr', 1), ('Larvesta', 'Abra', 1), ('Staryu', 'Timburr', 1), ('Staryu', 'Abra', 1), ('Timburr', 'Abra', 1), ('Timburr', 'Tirtouga', 1), ('Timburr', 'Snover', 1), ('Tirtouga', 'Snover', 1), ('Omanyte', 'Tentacool', 1), ('Omanyte', 'Hippopotas', 1), ('Omanyte', 'Lileep', 1), ('Omanyte', 'Drifloon', 1), ('Omanyte', 'Vullaby', 1), ('Tentacool', 'Hippopotas', 1), ('Tentacool', 'Lileep', 1), ('Tentacool', 'Drifloon', 1), ('Tentacool', 'Vullaby', 1), ('Hippopotas', 'Lileep', 1), ('Hippopotas', 'Drifloon', 1), ('Hippopotas', 'Vullaby', 1), ('Lileep', 'Drifloon', 1), ('Lileep', 'Vullaby', 1), ('Drifloon', 'Vullaby', 1), ('Aipom', 'Magnemite', 1), ('Aipom', 'Ferroseed', 1), ('Aipom', 'Natu', 1), ('Magnemite', 'Ferroseed', 1), ('Magnemite', 'Natu', 1), ('Ferroseed', 'Natu', 1)])"
      ]
     },
     "execution_count": 14,
     "metadata": {},
     "output_type": "execute_result"
    }
   ],
   "source": [
    "for perm in edgeList :\n",
    "    for pokPair in perm :\n",
    "        if G.has_edge(pokPair[0], pokPair[1]):\n",
    "            G[pokPair[0]][pokPair[1]]['weight'] += 1\n",
    "        else:\n",
    "            G.add_edge(pokPair[0], pokPair[1], weight = 1)\n",
    "G.edges.data('weight')"
   ]
  },
  {
   "cell_type": "code",
   "execution_count": 15,
   "metadata": {},
   "outputs": [
    {
     "data": {
      "image/png": "[encoded data removed]",
      "text/plain": [
       "<Figure size 432x288 with 1 Axes>"
      ]
     },
     "metadata": {},
     "output_type": "display_data"
    }
   ],
   "source": [
    "nx.draw(G)"
   ]
  },
  {
   "cell_type": "markdown",
   "metadata": {},
   "source": [
    "# NU Teams"
   ]
  },
  {
   "cell_type": "code",
   "execution_count": 16,
   "metadata": {},
   "outputs": [],
   "source": [
    "teams = []\n",
    "\n",
    "t10= []\n",
    " \n",
    "t10.append('Alomomola')\n",
    "t10.append('Charizard')\n",
    "t10.append('Eelektross')\n",
    "t10.append('Serperior')\n",
    "t10.append('Golurk')\n",
    "t10.append('Skuntank')\n",
    " \n",
    "teams.append(t10)\n",
    " \n",
    "t11= []\n",
    " \n",
    "t11.append('Swellow')\n",
    "t11.append('Kangaskhan')\n",
    "t11.append('Zangoose')\n",
    "t11.append('Gothorita')\n",
    "t11.append('Golurk')\n",
    "t11.append('Rotom')\n",
    " \n",
    "teams.append(t11)\n",
    " \n",
    "t12= []\n",
    " \n",
    "t12.append('Charizard')\n",
    "t12.append('Piloswine')\n",
    "t12.append('Serperior')\n",
    "t12.append('Gothorita')\n",
    "t12.append('Alomomola')\n",
    "t12.append('Garbodor')\n",
    " \n",
    "teams.append(t12)\n",
    " \n",
    "t13= []\n",
    " \n",
    "t13.append('Rotom')\n",
    "t13.append('Gardevoir')\n",
    "t13.append('Golurk')\n",
    "t13.append('Alomomola')\n",
    "t13.append('Garbodor')\n",
    "t13.append('Kangaskhan')\n",
    " \n",
    "teams.append(t13)\n",
    " \n",
    "t14= []\n",
    " \n",
    "t14.append('Skuntank')\n",
    "t14.append('Gardevoir')\n",
    "t14.append('Regirock')\n",
    "t14.append('Misdreavus')\n",
    "t14.append('Seismitoad')\n",
    "t14.append('Braviary')\n",
    " \n",
    "teams.append(t14)\n",
    " \n",
    "t15= []\n",
    " \n",
    "t15.append('Charizard')\n",
    "t15.append('Torterra')\n",
    "t15.append('Samurott')\n",
    "t15.append('Piloswine')\n",
    "t15.append('Fraxure')\n",
    "t15.append('Musharna')\n",
    " \n",
    "teams.append(t15)\n",
    " "
   ]
  },
  {
   "cell_type": "code",
   "execution_count": 17,
   "metadata": {},
   "outputs": [
    {
     "name": "stdout",
     "output_type": "stream",
     "text": [
      "6\n"
     ]
    }
   ],
   "source": [
    "print(len(teams))"
   ]
  },
  {
   "cell_type": "code",
   "execution_count": 18,
   "metadata": {},
   "outputs": [
    {
     "data": {
      "text/plain": [
       "EdgeDataView([('Dragonite', 'Slowbro', 1), ('Dragonite', 'Volcarona', 1), ('Dragonite', 'Suicune', 1), ('Dragonite', 'Hydreigon', 1), ('Slowbro', 'Volcarona', 1), ('Scrafty', 'Raikou', 1), ('Scrafty', 'Mew', 1), ('Raikou', 'Mew', 1), ('Meloetta', 'Kyurem', 1), ('Meloetta', 'Scizor', 1), ('Kyurem', 'Scizor', 1), ('Suicune', 'Hydreigon', 1), ('Mienfoo', 'Frillish', 1), ('Mienfoo', 'Porygon', 1), ('Mienfoo', 'Carvanha', 1), ('Mienfoo', 'Drilbur', 2), ('Mienfoo', 'Budew', 1), ('Mienfoo', 'Aipom', 1), ('Mienfoo', 'Magnemite', 1), ('Mienfoo', 'Ferroseed', 1), ('Mienfoo', 'Natu', 1), ('Frillish', 'Porygon', 2), ('Frillish', 'Carvanha', 1), ('Frillish', 'Drilbur', 2), ('Frillish', 'Budew', 1), ('Frillish', 'Tirtouga', 1), ('Frillish', 'Snover', 1), ('Frillish', 'Timburr', 1), ('Porygon', 'Carvanha', 1), ('Porygon', 'Drilbur', 2), ('Porygon', 'Budew', 1), ('Porygon', 'Tirtouga', 1), ('Porygon', 'Snover', 1), ('Porygon', 'Timburr', 1), ('Carvanha', 'Drilbur', 2), ('Carvanha', 'Budew', 1), ('Carvanha', 'Larvesta', 1), ('Carvanha', 'Staryu', 1), ('Carvanha', 'Timburr', 1), ('Carvanha', 'Abra', 1), ('Drilbur', 'Budew', 1), ('Drilbur', 'Larvesta', 1), ('Drilbur', 'Staryu', 1), ('Drilbur', 'Timburr', 2), ('Drilbur', 'Abra', 1), ('Drilbur', 'Tirtouga', 1), ('Drilbur', 'Snover', 1), ('Drilbur', 'Aipom', 1), ('Drilbur', 'Magnemite', 1), ('Drilbur', 'Ferroseed', 1), ('Drilbur', 'Natu', 1), ('Larvesta', 'Staryu', 1), ('Larvesta', 'Timburr', 1), ('Larvesta', 'Abra', 1), ('Staryu', 'Timburr', 1), ('Staryu', 'Abra', 1), ('Timburr', 'Abra', 1), ('Timburr', 'Tirtouga', 1), ('Timburr', 'Snover', 1), ('Tirtouga', 'Snover', 1), ('Omanyte', 'Tentacool', 1), ('Omanyte', 'Hippopotas', 1), ('Omanyte', 'Lileep', 1), ('Omanyte', 'Drifloon', 1), ('Omanyte', 'Vullaby', 1), ('Tentacool', 'Hippopotas', 1), ('Tentacool', 'Lileep', 1), ('Tentacool', 'Drifloon', 1), ('Tentacool', 'Vullaby', 1), ('Hippopotas', 'Lileep', 1), ('Hippopotas', 'Drifloon', 1), ('Hippopotas', 'Vullaby', 1), ('Lileep', 'Drifloon', 1), ('Lileep', 'Vullaby', 1), ('Drifloon', 'Vullaby', 1), ('Aipom', 'Magnemite', 1), ('Aipom', 'Ferroseed', 1), ('Aipom', 'Natu', 1), ('Magnemite', 'Ferroseed', 1), ('Magnemite', 'Natu', 1), ('Ferroseed', 'Natu', 1), ('Alomomola', 'Charizard', 2), ('Alomomola', 'Eelektross', 1), ('Alomomola', 'Serperior', 2), ('Alomomola', 'Golurk', 2), ('Alomomola', 'Skuntank', 1), ('Alomomola', 'Piloswine', 1), ('Alomomola', 'Gothorita', 1), ('Alomomola', 'Garbodor', 2), ('Alomomola', 'Rotom', 1), ('Alomomola', 'Gardevoir', 1), ('Alomomola', 'Kangaskhan', 1), ('Charizard', 'Eelektross', 1), ('Charizard', 'Serperior', 2), ('Charizard', 'Golurk', 1), ('Charizard', 'Skuntank', 1), ('Charizard', 'Piloswine', 2), ('Charizard', 'Gothorita', 1), ('Charizard', 'Garbodor', 1), ('Charizard', 'Torterra', 1), ('Charizard', 'Samurott', 1), ('Charizard', 'Fraxure', 1), ('Charizard', 'Musharna', 1), ('Eelektross', 'Serperior', 1), ('Eelektross', 'Golurk', 1), ('Eelektross', 'Skuntank', 1), ('Serperior', 'Golurk', 1), ('Serperior', 'Skuntank', 1), ('Serperior', 'Piloswine', 1), ('Serperior', 'Gothorita', 1), ('Serperior', 'Garbodor', 1), ('Golurk', 'Skuntank', 1), ('Golurk', 'Swellow', 1), ('Golurk', 'Kangaskhan', 2), ('Golurk', 'Zangoose', 1), ('Golurk', 'Gothorita', 1), ('Golurk', 'Rotom', 2), ('Golurk', 'Gardevoir', 1), ('Golurk', 'Garbodor', 1), ('Skuntank', 'Gardevoir', 1), ('Skuntank', 'Regirock', 1), ('Skuntank', 'Misdreavus', 1), ('Skuntank', 'Seismitoad', 1), ('Skuntank', 'Braviary', 1), ('Swellow', 'Kangaskhan', 1), ('Swellow', 'Zangoose', 1), ('Swellow', 'Gothorita', 1), ('Swellow', 'Rotom', 1), ('Kangaskhan', 'Zangoose', 1), ('Kangaskhan', 'Gothorita', 1), ('Kangaskhan', 'Rotom', 2), ('Kangaskhan', 'Gardevoir', 1), ('Kangaskhan', 'Garbodor', 1), ('Zangoose', 'Gothorita', 1), ('Zangoose', 'Rotom', 1), ('Gothorita', 'Rotom', 1), ('Gothorita', 'Piloswine', 1), ('Gothorita', 'Garbodor', 1), ('Rotom', 'Gardevoir', 1), ('Rotom', 'Garbodor', 1), ('Piloswine', 'Garbodor', 1), ('Piloswine', 'Torterra', 1), ('Piloswine', 'Samurott', 1), ('Piloswine', 'Fraxure', 1), ('Piloswine', 'Musharna', 1), ('Garbodor', 'Gardevoir', 1), ('Gardevoir', 'Regirock', 1), ('Gardevoir', 'Misdreavus', 1), ('Gardevoir', 'Seismitoad', 1), ('Gardevoir', 'Braviary', 1), ('Regirock', 'Misdreavus', 1), ('Regirock', 'Seismitoad', 1), ('Regirock', 'Braviary', 1), ('Misdreavus', 'Seismitoad', 1), ('Misdreavus', 'Braviary', 1), ('Seismitoad', 'Braviary', 1), ('Torterra', 'Samurott', 1), ('Torterra', 'Fraxure', 1), ('Torterra', 'Musharna', 1), ('Samurott', 'Fraxure', 1), ('Samurott', 'Musharna', 1), ('Fraxure', 'Musharna', 1)])"
      ]
     },
     "execution_count": 18,
     "metadata": {},
     "output_type": "execute_result"
    }
   ],
   "source": [
    "for team in teams:\n",
    "    for pok in team:\n",
    "        if(pok in apariciones):\n",
    "            apariciones[pok] += 1\n",
    "        else:\n",
    "            apariciones[pok] = 1\n",
    "        G.add_node(pok, type1 = pokedex[pok]['type1'], type2 = pokedex[pok]['type2'])\n",
    "        \n",
    "\n",
    "edgeList = []\n",
    "for team in teams:\n",
    "    edgeList.append([x for x in it.combinations(team, 2)])\n",
    "    \n",
    "for perm in edgeList :\n",
    "    for pokPair in perm :\n",
    "        if G.has_edge(pokPair[0], pokPair[1]):\n",
    "            G[pokPair[0]][pokPair[1]]['weight'] += 1\n",
    "        else:\n",
    "            G.add_edge(pokPair[0], pokPair[1], weight = 1)\n",
    "G.edges.data('weight')"
   ]
  },
  {
   "cell_type": "code",
   "execution_count": 19,
   "metadata": {},
   "outputs": [
    {
     "data": {
      "image/png": "[encoded data removed]",
      "text/plain": [
       "<Figure size 432x288 with 1 Axes>"
      ]
     },
     "metadata": {},
     "output_type": "display_data"
    }
   ],
   "source": [
    "nx.draw(G)"
   ]
  },
  {
   "cell_type": "markdown",
   "metadata": {},
   "source": [
    "# OU Teams"
   ]
  },
  {
   "cell_type": "code",
   "execution_count": 20,
   "metadata": {},
   "outputs": [],
   "source": [
    "teams = []\n",
    "\n",
    "t16= []\n",
    " \n",
    "t16.append('Tyranitar')\n",
    "t16.append('Keldeo')\n",
    "t16.append('Heatran')\n",
    "t16.append('Amoonguss')\n",
    "t16.append('Landorus')\n",
    "t16.append('Excadrill')\n",
    " \n",
    "teams.append(t16)\n",
    " \n",
    "t17= []\n",
    " \n",
    "t17.append('Tyranitar')\n",
    "t17.append('Latios')\n",
    "t17.append('Rotom')\n",
    "t17.append('Ferrothorn')\n",
    "t17.append('Landorus')\n",
    "t17.append('Garchomp')\n",
    " \n",
    "teams.append(t17)\n",
    " \n",
    "t18= []\n",
    " \n",
    "t18.append('Tyranitar')\n",
    "t18.append('Terrakion')\n",
    "t18.append('Excadrill')\n",
    "t18.append('Landorus')\n",
    "t18.append('Amoonguss')\n",
    "t18.append('Rotom')\n",
    " \n",
    "teams.append(t18)\n",
    " \n",
    "t19= []\n",
    " \n",
    "t19.append('Tyranitar')\n",
    "t19.append('Latios')\n",
    "t19.append('Landorus')\n",
    "t19.append('Ferrothorn')\n",
    "t19.append('Alakazam')\n",
    "t19.append('Excadrill')\n",
    " \n",
    "teams.append(t19)\n",
    " \n",
    "t20= []\n",
    " \n",
    "t20.append('Tyranitar')\n",
    "t20.append('Rotom')\n",
    "t20.append('Landorus')\n",
    "t20.append('Latios')\n",
    "t20.append('Ferrothorn')\n",
    "t20.append('Excadrill')\n",
    " \n",
    "teams.append(t20)\n",
    " \n",
    "t21= []\n",
    " \n",
    "t21.append('Tyranitar')\n",
    "t21.append('Ferrothorn')\n",
    "t21.append('Landorus')\n",
    "t21.append('Reuniclus')\n",
    "t21.append('Latios')\n",
    "t21.append('Alakazam')\n",
    " \n",
    "teams.append(t21)\n",
    " \n",
    "t22= []\n",
    " \n",
    "t22.append('Tyranitar')\n",
    "t22.append('Rotom')\n",
    "t22.append('Breloom')\n",
    "t22.append('Landorus')\n",
    "t22.append('Latios')\n",
    "t22.append('Skarmory')\n",
    " \n",
    "teams.append(t22)\n",
    " \n",
    "t23= []\n",
    " \n",
    "t23.append('Politoed')\n",
    "t23.append('Ferrothorn')\n",
    "t23.append('Tentacruel')\n",
    "t23.append('Latios')\n",
    "t23.append('Keldeo')\n",
    "t23.append('Thundurus')\n",
    " \n",
    "teams.append(t23)\n",
    " \n",
    "t24= []\n",
    " \n",
    "t24.append('Politoed')\n",
    "t24.append('Ferrothorn')\n",
    "t24.append('Tentacruel')\n",
    "t24.append('Dragonite')\n",
    "t24.append('Keldeo')\n",
    "t24.append('Thundurus')\n",
    " \n",
    "teams.append(t24)\n",
    " \n",
    "t25= []\n",
    " \n",
    "t25.append('Politoed')\n",
    "t25.append('Ferrothorn')\n",
    "t25.append('Tentacruel')\n",
    "t25.append('Garchomp')\n",
    "t25.append('Latios')\n",
    "t25.append('Tornadus')\n",
    " \n",
    "teams.append(t25)\n",
    " \n",
    "t26= []\n",
    " \n",
    "t26.append('Politoed')\n",
    "t26.append('Tentacruel')\n",
    "t26.append('Celebi')\n",
    "t26.append('Ferrothorn')\n",
    "t26.append('Thundurus')\n",
    "t26.append('Keldeo')\n",
    " \n",
    "teams.append(t26)\n",
    " \n",
    "t27= []\n",
    " \n",
    "t27.append('Jirachi')\n",
    "t27.append('Kyurem')\n",
    "t27.append('Latios')\n",
    "t27.append('Magnezone')\n",
    "t27.append('Dragonite')\n",
    "t27.append('Garchomp')\n",
    " \n",
    "teams.append(t27)\n",
    " \n",
    "t28= []\n",
    " \n",
    "t28.append('Excadrill')\n",
    "t28.append('Breloom')\n",
    "t28.append('Jirachi')\n",
    "t28.append('Rotom')\n",
    "t28.append('Latios')\n",
    "t28.append('Landorus')\n",
    " \n",
    "teams.append(t28)\n",
    " \n",
    "t29= []\n",
    " \n",
    "t29.append('Garchomp')\n",
    "t29.append('Latios')\n",
    "t29.append('Dragonite')\n",
    "t29.append('Starmie')\n",
    "t29.append('Jirachi')\n",
    "t29.append('Magnezone')\n",
    " \n",
    "teams.append(t29)"
   ]
  },
  {
   "cell_type": "code",
   "execution_count": 21,
   "metadata": {},
   "outputs": [
    {
     "name": "stdout",
     "output_type": "stream",
     "text": [
      "14\n"
     ]
    }
   ],
   "source": [
    "print(len(teams))"
   ]
  },
  {
   "cell_type": "code",
   "execution_count": 22,
   "metadata": {},
   "outputs": [
    {
     "data": {
      "text/plain": [
       "EdgeDataView([('Dragonite', 'Slowbro', 1), ('Dragonite', 'Volcarona', 1), ('Dragonite', 'Suicune', 1), ('Dragonite', 'Hydreigon', 1), ('Dragonite', 'Politoed', 1), ('Dragonite', 'Ferrothorn', 1), ('Dragonite', 'Tentacruel', 1), ('Dragonite', 'Keldeo', 1), ('Dragonite', 'Thundurus', 1), ('Dragonite', 'Jirachi', 2), ('Dragonite', 'Kyurem', 1), ('Dragonite', 'Latios', 2), ('Dragonite', 'Magnezone', 2), ('Dragonite', 'Garchomp', 2), ('Dragonite', 'Starmie', 1), ('Slowbro', 'Volcarona', 1), ('Scrafty', 'Raikou', 1), ('Scrafty', 'Mew', 1), ('Raikou', 'Mew', 1), ('Meloetta', 'Kyurem', 1), ('Meloetta', 'Scizor', 1), ('Kyurem', 'Scizor', 1), ('Kyurem', 'Jirachi', 1), ('Kyurem', 'Latios', 1), ('Kyurem', 'Magnezone', 1), ('Kyurem', 'Garchomp', 1), ('Suicune', 'Hydreigon', 1), ('Mienfoo', 'Frillish', 1), ('Mienfoo', 'Porygon', 1), ('Mienfoo', 'Carvanha', 1), ('Mienfoo', 'Drilbur', 2), ('Mienfoo', 'Budew', 1), ('Mienfoo', 'Aipom', 1), ('Mienfoo', 'Magnemite', 1), ('Mienfoo', 'Ferroseed', 1), ('Mienfoo', 'Natu', 1), ('Frillish', 'Porygon', 2), ('Frillish', 'Carvanha', 1), ('Frillish', 'Drilbur', 2), ('Frillish', 'Budew', 1), ('Frillish', 'Tirtouga', 1), ('Frillish', 'Snover', 1), ('Frillish', 'Timburr', 1), ('Porygon', 'Carvanha', 1), ('Porygon', 'Drilbur', 2), ('Porygon', 'Budew', 1), ('Porygon', 'Tirtouga', 1), ('Porygon', 'Snover', 1), ('Porygon', 'Timburr', 1), ('Carvanha', 'Drilbur', 2), ('Carvanha', 'Budew', 1), ('Carvanha', 'Larvesta', 1), ('Carvanha', 'Staryu', 1), ('Carvanha', 'Timburr', 1), ('Carvanha', 'Abra', 1), ('Drilbur', 'Budew', 1), ('Drilbur', 'Larvesta', 1), ('Drilbur', 'Staryu', 1), ('Drilbur', 'Timburr', 2), ('Drilbur', 'Abra', 1), ('Drilbur', 'Tirtouga', 1), ('Drilbur', 'Snover', 1), ('Drilbur', 'Aipom', 1), ('Drilbur', 'Magnemite', 1), ('Drilbur', 'Ferroseed', 1), ('Drilbur', 'Natu', 1), ('Larvesta', 'Staryu', 1), ('Larvesta', 'Timburr', 1), ('Larvesta', 'Abra', 1), ('Staryu', 'Timburr', 1), ('Staryu', 'Abra', 1), ('Timburr', 'Abra', 1), ('Timburr', 'Tirtouga', 1), ('Timburr', 'Snover', 1), ('Tirtouga', 'Snover', 1), ('Omanyte', 'Tentacool', 1), ('Omanyte', 'Hippopotas', 1), ('Omanyte', 'Lileep', 1), ('Omanyte', 'Drifloon', 1), ('Omanyte', 'Vullaby', 1), ('Tentacool', 'Hippopotas', 1), ('Tentacool', 'Lileep', 1), ('Tentacool', 'Drifloon', 1), ('Tentacool', 'Vullaby', 1), ('Hippopotas', 'Lileep', 1), ('Hippopotas', 'Drifloon', 1), ('Hippopotas', 'Vullaby', 1), ('Lileep', 'Drifloon', 1), ('Lileep', 'Vullaby', 1), ('Drifloon', 'Vullaby', 1), ('Aipom', 'Magnemite', 1), ('Aipom', 'Ferroseed', 1), ('Aipom', 'Natu', 1), ('Magnemite', 'Ferroseed', 1), ('Magnemite', 'Natu', 1), ('Ferroseed', 'Natu', 1), ('Alomomola', 'Charizard', 2), ('Alomomola', 'Eelektross', 1), ('Alomomola', 'Serperior', 2), ('Alomomola', 'Golurk', 2), ('Alomomola', 'Skuntank', 1), ('Alomomola', 'Piloswine', 1), ('Alomomola', 'Gothorita', 1), ('Alomomola', 'Garbodor', 2), ('Alomomola', 'Rotom', 1), ('Alomomola', 'Gardevoir', 1), ('Alomomola', 'Kangaskhan', 1), ('Charizard', 'Eelektross', 1), ('Charizard', 'Serperior', 2), ('Charizard', 'Golurk', 1), ('Charizard', 'Skuntank', 1), ('Charizard', 'Piloswine', 2), ('Charizard', 'Gothorita', 1), ('Charizard', 'Garbodor', 1), ('Charizard', 'Torterra', 1), ('Charizard', 'Samurott', 1), ('Charizard', 'Fraxure', 1), ('Charizard', 'Musharna', 1), ('Eelektross', 'Serperior', 1), ('Eelektross', 'Golurk', 1), ('Eelektross', 'Skuntank', 1), ('Serperior', 'Golurk', 1), ('Serperior', 'Skuntank', 1), ('Serperior', 'Piloswine', 1), ('Serperior', 'Gothorita', 1), ('Serperior', 'Garbodor', 1), ('Golurk', 'Skuntank', 1), ('Golurk', 'Swellow', 1), ('Golurk', 'Kangaskhan', 2), ('Golurk', 'Zangoose', 1), ('Golurk', 'Gothorita', 1), ('Golurk', 'Rotom', 2), ('Golurk', 'Gardevoir', 1), ('Golurk', 'Garbodor', 1), ('Skuntank', 'Gardevoir', 1), ('Skuntank', 'Regirock', 1), ('Skuntank', 'Misdreavus', 1), ('Skuntank', 'Seismitoad', 1), ('Skuntank', 'Braviary', 1), ('Swellow', 'Kangaskhan', 1), ('Swellow', 'Zangoose', 1), ('Swellow', 'Gothorita', 1), ('Swellow', 'Rotom', 1), ('Kangaskhan', 'Zangoose', 1), ('Kangaskhan', 'Gothorita', 1), ('Kangaskhan', 'Rotom', 2), ('Kangaskhan', 'Gardevoir', 1), ('Kangaskhan', 'Garbodor', 1), ('Zangoose', 'Gothorita', 1), ('Zangoose', 'Rotom', 1), ('Gothorita', 'Rotom', 1), ('Gothorita', 'Piloswine', 1), ('Gothorita', 'Garbodor', 1), ('Rotom', 'Gardevoir', 1), ('Rotom', 'Garbodor', 1), ('Rotom', 'Tyranitar', 4), ('Rotom', 'Latios', 4), ('Rotom', 'Ferrothorn', 2), ('Rotom', 'Landorus', 5), ('Rotom', 'Garchomp', 1), ('Rotom', 'Terrakion', 1), ('Rotom', 'Excadrill', 3), ('Rotom', 'Amoonguss', 1), ('Rotom', 'Breloom', 2), ('Rotom', 'Skarmory', 1), ('Rotom', 'Jirachi', 1), ('Piloswine', 'Garbodor', 1), ('Piloswine', 'Torterra', 1), ('Piloswine', 'Samurott', 1), ('Piloswine', 'Fraxure', 1), ('Piloswine', 'Musharna', 1), ('Garbodor', 'Gardevoir', 1), ('Gardevoir', 'Regirock', 1), ('Gardevoir', 'Misdreavus', 1), ('Gardevoir', 'Seismitoad', 1), ('Gardevoir', 'Braviary', 1), ('Regirock', 'Misdreavus', 1), ('Regirock', 'Seismitoad', 1), ('Regirock', 'Braviary', 1), ('Misdreavus', 'Seismitoad', 1), ('Misdreavus', 'Braviary', 1), ('Seismitoad', 'Braviary', 1), ('Torterra', 'Samurott', 1), ('Torterra', 'Fraxure', 1), ('Torterra', 'Musharna', 1), ('Samurott', 'Fraxure', 1), ('Samurott', 'Musharna', 1), ('Fraxure', 'Musharna', 1), ('Tyranitar', 'Keldeo', 1), ('Tyranitar', 'Heatran', 1), ('Tyranitar', 'Amoonguss', 2), ('Tyranitar', 'Landorus', 7), ('Tyranitar', 'Excadrill', 4), ('Tyranitar', 'Latios', 5), ('Tyranitar', 'Ferrothorn', 4), ('Tyranitar', 'Garchomp', 1), ('Tyranitar', 'Terrakion', 1), ('Tyranitar', 'Alakazam', 2), ('Tyranitar', 'Reuniclus', 1), ('Tyranitar', 'Breloom', 1), ('Tyranitar', 'Skarmory', 1), ('Keldeo', 'Heatran', 1), ('Keldeo', 'Amoonguss', 1), ('Keldeo', 'Landorus', 1), ('Keldeo', 'Excadrill', 1), ('Keldeo', 'Politoed', 3), ('Keldeo', 'Ferrothorn', 3), ('Keldeo', 'Tentacruel', 3), ('Keldeo', 'Latios', 1), ('Keldeo', 'Thundurus', 3), ('Keldeo', 'Celebi', 1), ('Heatran', 'Amoonguss', 1), ('Heatran', 'Landorus', 1), ('Heatran', 'Excadrill', 1), ('Amoonguss', 'Landorus', 2), ('Amoonguss', 'Excadrill', 2), ('Amoonguss', 'Terrakion', 1), ('Landorus', 'Excadrill', 5), ('Landorus', 'Latios', 6), ('Landorus', 'Ferrothorn', 4), ('Landorus', 'Garchomp', 1), ('Landorus', 'Terrakion', 1), ('Landorus', 'Alakazam', 2), ('Landorus', 'Reuniclus', 1), ('Landorus', 'Breloom', 2), ('Landorus', 'Skarmory', 1), ('Landorus', 'Jirachi', 1), ('Excadrill', 'Terrakion', 1), ('Excadrill', 'Latios', 3), ('Excadrill', 'Ferrothorn', 2), ('Excadrill', 'Alakazam', 1), ('Excadrill', 'Breloom', 1), ('Excadrill', 'Jirachi', 1), ('Latios', 'Ferrothorn', 6), ('Latios', 'Garchomp', 4), ('Latios', 'Alakazam', 2), ('Latios', 'Reuniclus', 1), ('Latios', 'Breloom', 2), ('Latios', 'Skarmory', 1), ('Latios', 'Politoed', 2), ('Latios', 'Tentacruel', 2), ('Latios', 'Thundurus', 1), ('Latios', 'Tornadus', 1), ('Latios', 'Jirachi', 3), ('Latios', 'Magnezone', 2), ('Latios', 'Starmie', 1), ('Ferrothorn', 'Garchomp', 2), ('Ferrothorn', 'Alakazam', 2), ('Ferrothorn', 'Reuniclus', 1), ('Ferrothorn', 'Politoed', 4), ('Ferrothorn', 'Tentacruel', 4), ('Ferrothorn', 'Thundurus', 3), ('Ferrothorn', 'Tornadus', 1), ('Ferrothorn', 'Celebi', 1), ('Garchomp', 'Politoed', 1), ('Garchomp', 'Tentacruel', 1), ('Garchomp', 'Tornadus', 1), ('Garchomp', 'Jirachi', 2), ('Garchomp', 'Magnezone', 2), ('Garchomp', 'Starmie', 1), ('Alakazam', 'Reuniclus', 1), ('Breloom', 'Skarmory', 1), ('Breloom', 'Jirachi', 1), ('Politoed', 'Tentacruel', 4), ('Politoed', 'Thundurus', 3), ('Politoed', 'Tornadus', 1), ('Politoed', 'Celebi', 1), ('Tentacruel', 'Thundurus', 3), ('Tentacruel', 'Tornadus', 1), ('Tentacruel', 'Celebi', 1), ('Thundurus', 'Celebi', 1), ('Jirachi', 'Magnezone', 2), ('Jirachi', 'Starmie', 1), ('Magnezone', 'Starmie', 1)])"
      ]
     },
     "execution_count": 22,
     "metadata": {},
     "output_type": "execute_result"
    }
   ],
   "source": [
    "for team in teams:\n",
    "    for pok in team:\n",
    "        if(pok in apariciones):\n",
    "            apariciones[pok] += 1\n",
    "        else:\n",
    "            apariciones[pok] = 1\n",
    "        G.add_node(pok, type1 = pokedex[pok]['type1'], type2 = pokedex[pok]['type2'])\n",
    "        \n",
    "\n",
    "edgeList = []\n",
    "for team in teams:\n",
    "    edgeList.append([x for x in it.combinations(team, 2)])\n",
    "    \n",
    "for perm in edgeList :\n",
    "    for pokPair in perm :\n",
    "        if G.has_edge(pokPair[0], pokPair[1]):\n",
    "            G[pokPair[0]][pokPair[1]]['weight'] += 1\n",
    "        else:\n",
    "            G.add_edge(pokPair[0], pokPair[1], weight = 1)\n",
    "G.edges.data('weight')"
   ]
  },
  {
   "cell_type": "code",
   "execution_count": 23,
   "metadata": {},
   "outputs": [
    {
     "data": {
      "image/png": "[encoded data removed]",
      "text/plain": [
       "<Figure size 432x288 with 1 Axes>"
      ]
     },
     "metadata": {},
     "output_type": "display_data"
    }
   ],
   "source": [
    "nx.draw(G)"
   ]
  },
  {
   "cell_type": "markdown",
   "metadata": {},
   "source": [
    "# PU Teams"
   ]
  },
  {
   "cell_type": "code",
   "execution_count": 24,
   "metadata": {},
   "outputs": [],
   "source": [
    "teams = []\n",
    "\n",
    "t30= []\n",
    " \n",
    "t30.append('Throh')\n",
    "t30.append('Dwebble')\n",
    "t30.append('Simipour')\n",
    "t30.append('Klang')\n",
    "t30.append('Zebstrika')\n",
    "t30.append('Jumpluff')\n",
    " \n",
    "teams.append(t30)\n",
    " \n",
    "t31= []\n",
    " \n",
    "t31.append('Maractus')\n",
    "t31.append('Beheeyem')\n",
    "t31.append('Mawile')\n",
    "t31.append('Swanna')\n",
    "t31.append('Throh')\n",
    "t31.append('Banette')\n",
    " \n",
    "teams.append(t31)\n",
    " \n",
    "t32= []\n",
    " \n",
    "t32.append('Gabite')\n",
    "t32.append('Simisage')\n",
    "t32.append('Beheeyem')\n",
    "t32.append('Rampardos')\n",
    "t32.append('Dodrio')\n",
    "t32.append('Pelipper')\n",
    " \n",
    "teams.append(t32)\n",
    " \n",
    "t33= []\n",
    " \n",
    "t33.append('Throh')\n",
    "t33.append('Beheeyem')\n",
    "t33.append('Zebstrika')\n",
    "t33.append('Vileplume')\n",
    "t33.append('Relicanth')\n",
    "t33.append('Swanna')\n",
    " \n",
    "teams.append(t33)"
   ]
  },
  {
   "cell_type": "code",
   "execution_count": 25,
   "metadata": {},
   "outputs": [
    {
     "name": "stdout",
     "output_type": "stream",
     "text": [
      "4\n"
     ]
    }
   ],
   "source": [
    "print(len(teams))"
   ]
  },
  {
   "cell_type": "code",
   "execution_count": 26,
   "metadata": {},
   "outputs": [
    {
     "data": {
      "text/plain": [
       "EdgeDataView([('Dragonite', 'Slowbro', 1), ('Dragonite', 'Volcarona', 1), ('Dragonite', 'Suicune', 1), ('Dragonite', 'Hydreigon', 1), ('Dragonite', 'Politoed', 1), ('Dragonite', 'Ferrothorn', 1), ('Dragonite', 'Tentacruel', 1), ('Dragonite', 'Keldeo', 1), ('Dragonite', 'Thundurus', 1), ('Dragonite', 'Jirachi', 2), ('Dragonite', 'Kyurem', 1), ('Dragonite', 'Latios', 2), ('Dragonite', 'Magnezone', 2), ('Dragonite', 'Garchomp', 2), ('Dragonite', 'Starmie', 1), ('Slowbro', 'Volcarona', 1), ('Scrafty', 'Raikou', 1), ('Scrafty', 'Mew', 1), ('Raikou', 'Mew', 1), ('Meloetta', 'Kyurem', 1), ('Meloetta', 'Scizor', 1), ('Kyurem', 'Scizor', 1), ('Kyurem', 'Jirachi', 1), ('Kyurem', 'Latios', 1), ('Kyurem', 'Magnezone', 1), ('Kyurem', 'Garchomp', 1), ('Suicune', 'Hydreigon', 1), ('Mienfoo', 'Frillish', 1), ('Mienfoo', 'Porygon', 1), ('Mienfoo', 'Carvanha', 1), ('Mienfoo', 'Drilbur', 2), ('Mienfoo', 'Budew', 1), ('Mienfoo', 'Aipom', 1), ('Mienfoo', 'Magnemite', 1), ('Mienfoo', 'Ferroseed', 1), ('Mienfoo', 'Natu', 1), ('Frillish', 'Porygon', 2), ('Frillish', 'Carvanha', 1), ('Frillish', 'Drilbur', 2), ('Frillish', 'Budew', 1), ('Frillish', 'Tirtouga', 1), ('Frillish', 'Snover', 1), ('Frillish', 'Timburr', 1), ('Porygon', 'Carvanha', 1), ('Porygon', 'Drilbur', 2), ('Porygon', 'Budew', 1), ('Porygon', 'Tirtouga', 1), ('Porygon', 'Snover', 1), ('Porygon', 'Timburr', 1), ('Carvanha', 'Drilbur', 2), ('Carvanha', 'Budew', 1), ('Carvanha', 'Larvesta', 1), ('Carvanha', 'Staryu', 1), ('Carvanha', 'Timburr', 1), ('Carvanha', 'Abra', 1), ('Drilbur', 'Budew', 1), ('Drilbur', 'Larvesta', 1), ('Drilbur', 'Staryu', 1), ('Drilbur', 'Timburr', 2), ('Drilbur', 'Abra', 1), ('Drilbur', 'Tirtouga', 1), ('Drilbur', 'Snover', 1), ('Drilbur', 'Aipom', 1), ('Drilbur', 'Magnemite', 1), ('Drilbur', 'Ferroseed', 1), ('Drilbur', 'Natu', 1), ('Larvesta', 'Staryu', 1), ('Larvesta', 'Timburr', 1), ('Larvesta', 'Abra', 1), ('Staryu', 'Timburr', 1), ('Staryu', 'Abra', 1), ('Timburr', 'Abra', 1), ('Timburr', 'Tirtouga', 1), ('Timburr', 'Snover', 1), ('Tirtouga', 'Snover', 1), ('Omanyte', 'Tentacool', 1), ('Omanyte', 'Hippopotas', 1), ('Omanyte', 'Lileep', 1), ('Omanyte', 'Drifloon', 1), ('Omanyte', 'Vullaby', 1), ('Tentacool', 'Hippopotas', 1), ('Tentacool', 'Lileep', 1), ('Tentacool', 'Drifloon', 1), ('Tentacool', 'Vullaby', 1), ('Hippopotas', 'Lileep', 1), ('Hippopotas', 'Drifloon', 1), ('Hippopotas', 'Vullaby', 1), ('Lileep', 'Drifloon', 1), ('Lileep', 'Vullaby', 1), ('Drifloon', 'Vullaby', 1), ('Aipom', 'Magnemite', 1), ('Aipom', 'Ferroseed', 1), ('Aipom', 'Natu', 1), ('Magnemite', 'Ferroseed', 1), ('Magnemite', 'Natu', 1), ('Ferroseed', 'Natu', 1), ('Alomomola', 'Charizard', 2), ('Alomomola', 'Eelektross', 1), ('Alomomola', 'Serperior', 2), ('Alomomola', 'Golurk', 2), ('Alomomola', 'Skuntank', 1), ('Alomomola', 'Piloswine', 1), ('Alomomola', 'Gothorita', 1), ('Alomomola', 'Garbodor', 2), ('Alomomola', 'Rotom', 1), ('Alomomola', 'Gardevoir', 1), ('Alomomola', 'Kangaskhan', 1), ('Charizard', 'Eelektross', 1), ('Charizard', 'Serperior', 2), ('Charizard', 'Golurk', 1), ('Charizard', 'Skuntank', 1), ('Charizard', 'Piloswine', 2), ('Charizard', 'Gothorita', 1), ('Charizard', 'Garbodor', 1), ('Charizard', 'Torterra', 1), ('Charizard', 'Samurott', 1), ('Charizard', 'Fraxure', 1), ('Charizard', 'Musharna', 1), ('Eelektross', 'Serperior', 1), ('Eelektross', 'Golurk', 1), ('Eelektross', 'Skuntank', 1), ('Serperior', 'Golurk', 1), ('Serperior', 'Skuntank', 1), ('Serperior', 'Piloswine', 1), ('Serperior', 'Gothorita', 1), ('Serperior', 'Garbodor', 1), ('Golurk', 'Skuntank', 1), ('Golurk', 'Swellow', 1), ('Golurk', 'Kangaskhan', 2), ('Golurk', 'Zangoose', 1), ('Golurk', 'Gothorita', 1), ('Golurk', 'Rotom', 2), ('Golurk', 'Gardevoir', 1), ('Golurk', 'Garbodor', 1), ('Skuntank', 'Gardevoir', 1), ('Skuntank', 'Regirock', 1), ('Skuntank', 'Misdreavus', 1), ('Skuntank', 'Seismitoad', 1), ('Skuntank', 'Braviary', 1), ('Swellow', 'Kangaskhan', 1), ('Swellow', 'Zangoose', 1), ('Swellow', 'Gothorita', 1), ('Swellow', 'Rotom', 1), ('Kangaskhan', 'Zangoose', 1), ('Kangaskhan', 'Gothorita', 1), ('Kangaskhan', 'Rotom', 2), ('Kangaskhan', 'Gardevoir', 1), ('Kangaskhan', 'Garbodor', 1), ('Zangoose', 'Gothorita', 1), ('Zangoose', 'Rotom', 1), ('Gothorita', 'Rotom', 1), ('Gothorita', 'Piloswine', 1), ('Gothorita', 'Garbodor', 1), ('Rotom', 'Gardevoir', 1), ('Rotom', 'Garbodor', 1), ('Rotom', 'Tyranitar', 4), ('Rotom', 'Latios', 4), ('Rotom', 'Ferrothorn', 2), ('Rotom', 'Landorus', 5), ('Rotom', 'Garchomp', 1), ('Rotom', 'Terrakion', 1), ('Rotom', 'Excadrill', 3), ('Rotom', 'Amoonguss', 1), ('Rotom', 'Breloom', 2), ('Rotom', 'Skarmory', 1), ('Rotom', 'Jirachi', 1), ('Piloswine', 'Garbodor', 1), ('Piloswine', 'Torterra', 1), ('Piloswine', 'Samurott', 1), ('Piloswine', 'Fraxure', 1), ('Piloswine', 'Musharna', 1), ('Garbodor', 'Gardevoir', 1), ('Gardevoir', 'Regirock', 1), ('Gardevoir', 'Misdreavus', 1), ('Gardevoir', 'Seismitoad', 1), ('Gardevoir', 'Braviary', 1), ('Regirock', 'Misdreavus', 1), ('Regirock', 'Seismitoad', 1), ('Regirock', 'Braviary', 1), ('Misdreavus', 'Seismitoad', 1), ('Misdreavus', 'Braviary', 1), ('Seismitoad', 'Braviary', 1), ('Torterra', 'Samurott', 1), ('Torterra', 'Fraxure', 1), ('Torterra', 'Musharna', 1), ('Samurott', 'Fraxure', 1), ('Samurott', 'Musharna', 1), ('Fraxure', 'Musharna', 1), ('Tyranitar', 'Keldeo', 1), ('Tyranitar', 'Heatran', 1), ('Tyranitar', 'Amoonguss', 2), ('Tyranitar', 'Landorus', 7), ('Tyranitar', 'Excadrill', 4), ('Tyranitar', 'Latios', 5), ('Tyranitar', 'Ferrothorn', 4), ('Tyranitar', 'Garchomp', 1), ('Tyranitar', 'Terrakion', 1), ('Tyranitar', 'Alakazam', 2), ('Tyranitar', 'Reuniclus', 1), ('Tyranitar', 'Breloom', 1), ('Tyranitar', 'Skarmory', 1), ('Keldeo', 'Heatran', 1), ('Keldeo', 'Amoonguss', 1), ('Keldeo', 'Landorus', 1), ('Keldeo', 'Excadrill', 1), ('Keldeo', 'Politoed', 3), ('Keldeo', 'Ferrothorn', 3), ('Keldeo', 'Tentacruel', 3), ('Keldeo', 'Latios', 1), ('Keldeo', 'Thundurus', 3), ('Keldeo', 'Celebi', 1), ('Heatran', 'Amoonguss', 1), ('Heatran', 'Landorus', 1), ('Heatran', 'Excadrill', 1), ('Amoonguss', 'Landorus', 2), ('Amoonguss', 'Excadrill', 2), ('Amoonguss', 'Terrakion', 1), ('Landorus', 'Excadrill', 5), ('Landorus', 'Latios', 6), ('Landorus', 'Ferrothorn', 4), ('Landorus', 'Garchomp', 1), ('Landorus', 'Terrakion', 1), ('Landorus', 'Alakazam', 2), ('Landorus', 'Reuniclus', 1), ('Landorus', 'Breloom', 2), ('Landorus', 'Skarmory', 1), ('Landorus', 'Jirachi', 1), ('Excadrill', 'Terrakion', 1), ('Excadrill', 'Latios', 3), ('Excadrill', 'Ferrothorn', 2), ('Excadrill', 'Alakazam', 1), ('Excadrill', 'Breloom', 1), ('Excadrill', 'Jirachi', 1), ('Latios', 'Ferrothorn', 6), ('Latios', 'Garchomp', 4), ('Latios', 'Alakazam', 2), ('Latios', 'Reuniclus', 1), ('Latios', 'Breloom', 2), ('Latios', 'Skarmory', 1), ('Latios', 'Politoed', 2), ('Latios', 'Tentacruel', 2), ('Latios', 'Thundurus', 1), ('Latios', 'Tornadus', 1), ('Latios', 'Jirachi', 3), ('Latios', 'Magnezone', 2), ('Latios', 'Starmie', 1), ('Ferrothorn', 'Garchomp', 2), ('Ferrothorn', 'Alakazam', 2), ('Ferrothorn', 'Reuniclus', 1), ('Ferrothorn', 'Politoed', 4), ('Ferrothorn', 'Tentacruel', 4), ('Ferrothorn', 'Thundurus', 3), ('Ferrothorn', 'Tornadus', 1), ('Ferrothorn', 'Celebi', 1), ('Garchomp', 'Politoed', 1), ('Garchomp', 'Tentacruel', 1), ('Garchomp', 'Tornadus', 1), ('Garchomp', 'Jirachi', 2), ('Garchomp', 'Magnezone', 2), ('Garchomp', 'Starmie', 1), ('Alakazam', 'Reuniclus', 1), ('Breloom', 'Skarmory', 1), ('Breloom', 'Jirachi', 1), ('Politoed', 'Tentacruel', 4), ('Politoed', 'Thundurus', 3), ('Politoed', 'Tornadus', 1), ('Politoed', 'Celebi', 1), ('Tentacruel', 'Thundurus', 3), ('Tentacruel', 'Tornadus', 1), ('Tentacruel', 'Celebi', 1), ('Thundurus', 'Celebi', 1), ('Jirachi', 'Magnezone', 2), ('Jirachi', 'Starmie', 1), ('Magnezone', 'Starmie', 1), ('Throh', 'Dwebble', 1), ('Throh', 'Simipour', 1), ('Throh', 'Klang', 1), ('Throh', 'Zebstrika', 2), ('Throh', 'Jumpluff', 1), ('Throh', 'Maractus', 1), ('Throh', 'Beheeyem', 2), ('Throh', 'Mawile', 1), ('Throh', 'Swanna', 2), ('Throh', 'Banette', 1), ('Throh', 'Vileplume', 1), ('Throh', 'Relicanth', 1), ('Dwebble', 'Simipour', 1), ('Dwebble', 'Klang', 1), ('Dwebble', 'Zebstrika', 1), ('Dwebble', 'Jumpluff', 1), ('Simipour', 'Klang', 1), ('Simipour', 'Zebstrika', 1), ('Simipour', 'Jumpluff', 1), ('Klang', 'Zebstrika', 1), ('Klang', 'Jumpluff', 1), ('Zebstrika', 'Jumpluff', 1), ('Zebstrika', 'Beheeyem', 1), ('Zebstrika', 'Vileplume', 1), ('Zebstrika', 'Relicanth', 1), ('Zebstrika', 'Swanna', 1), ('Maractus', 'Beheeyem', 1), ('Maractus', 'Mawile', 1), ('Maractus', 'Swanna', 1), ('Maractus', 'Banette', 1), ('Beheeyem', 'Mawile', 1), ('Beheeyem', 'Swanna', 2), ('Beheeyem', 'Banette', 1), ('Beheeyem', 'Gabite', 1), ('Beheeyem', 'Simisage', 1), ('Beheeyem', 'Rampardos', 1), ('Beheeyem', 'Dodrio', 1), ('Beheeyem', 'Pelipper', 1), ('Beheeyem', 'Vileplume', 1), ('Beheeyem', 'Relicanth', 1), ('Mawile', 'Swanna', 1), ('Mawile', 'Banette', 1), ('Swanna', 'Banette', 1), ('Swanna', 'Vileplume', 1), ('Swanna', 'Relicanth', 1), ('Gabite', 'Simisage', 1), ('Gabite', 'Rampardos', 1), ('Gabite', 'Dodrio', 1), ('Gabite', 'Pelipper', 1), ('Simisage', 'Rampardos', 1), ('Simisage', 'Dodrio', 1), ('Simisage', 'Pelipper', 1), ('Rampardos', 'Dodrio', 1), ('Rampardos', 'Pelipper', 1), ('Dodrio', 'Pelipper', 1), ('Vileplume', 'Relicanth', 1)])"
      ]
     },
     "execution_count": 26,
     "metadata": {},
     "output_type": "execute_result"
    }
   ],
   "source": [
    "for team in teams:\n",
    "    for pok in team:\n",
    "        if(pok in apariciones):\n",
    "            apariciones[pok] += 1\n",
    "        else:\n",
    "            apariciones[pok] = 1\n",
    "        G.add_node(pok, type1 = pokedex[pok]['type1'], type2 = pokedex[pok]['type2'])\n",
    "        \n",
    "\n",
    "edgeList = []\n",
    "for team in teams:\n",
    "    edgeList.append([x for x in it.combinations(team, 2)])\n",
    "    \n",
    "for perm in edgeList :\n",
    "    for pokPair in perm :\n",
    "        if G.has_edge(pokPair[0], pokPair[1]):\n",
    "            G[pokPair[0]][pokPair[1]]['weight'] += 1\n",
    "        else:\n",
    "            G.add_edge(pokPair[0], pokPair[1], weight = 1)\n",
    "G.edges.data('weight')"
   ]
  },
  {
   "cell_type": "code",
   "execution_count": 27,
   "metadata": {},
   "outputs": [
    {
     "data": {
      "image/png": "[encoded data removed]",
      "text/plain": [
       "<Figure size 432x288 with 1 Axes>"
      ]
     },
     "metadata": {},
     "output_type": "display_data"
    }
   ],
   "source": [
    "nx.draw(G)"
   ]
  },
  {
   "cell_type": "markdown",
   "metadata": {},
   "source": [
    "# RU Teams"
   ]
  },
  {
   "cell_type": "code",
   "execution_count": 28,
   "metadata": {},
   "outputs": [],
   "source": [
    "teams = []\n",
    "\n",
    "t34= []\n",
    " \n",
    "t34.append('Scolipede')\n",
    "t34.append('Mesprit')\n",
    "t34.append('Misdreavus')\n",
    "t34.append('Omastar')\n",
    "t34.append('Escavalier')\n",
    "t34.append('Uxie')\n",
    " \n",
    "teams.append(t34)\n",
    " \n",
    "t35= []\n",
    " \n",
    "t35.append('Gallade')\n",
    "t35.append('Moltres')\n",
    "t35.append('Durant')\n",
    "t35.append('Rhydon')\n",
    "t35.append('Cryogonal')\n",
    "t35.append('Alomomola')\n",
    " \n",
    "teams.append(t35)\n",
    " \n",
    "t36= []\n",
    " \n",
    "t36.append('Medicham')\n",
    "t36.append('Manectric')\n",
    "t36.append('Archeops')\n",
    "t36.append('Uxie')\n",
    "t36.append('Hitmonchan')\n",
    "t36.append('Alomomola')\n",
    " \n",
    "teams.append(t36)\n",
    " \n",
    "t37= []\n",
    " \n",
    "t37.append('Jynx')\n",
    "t37.append('Haunter')\n",
    "t37.append('Druddigon')\n",
    "t37.append('Emboar')\n",
    "t37.append('Sawsbuck')\n",
    "t37.append('Kabutops')\n",
    " \n",
    "teams.append(t37)\n",
    " \n",
    "t38= []\n",
    " \n",
    "t38.append('Spiritomb')\n",
    "t38.append('Ferroseed')\n",
    "t38.append('Medicham')\n",
    "t38.append('Druddigon')\n",
    "t38.append('Rotom')\n",
    "t38.append('Cryogonal')\n",
    " \n",
    "teams.append(t38)\n",
    " \n",
    "t39= []\n",
    " \n",
    "t39.append('Slowking')\n",
    "t39.append('Spiritomb')\n",
    "t39.append('Rhydon')\n",
    "t39.append('Durant')\n",
    "t39.append('Druddigon')\n",
    "t39.append('Roselia')\n",
    " \n",
    "teams.append(t39)"
   ]
  },
  {
   "cell_type": "code",
   "execution_count": 29,
   "metadata": {},
   "outputs": [
    {
     "name": "stdout",
     "output_type": "stream",
     "text": [
      "6\n"
     ]
    }
   ],
   "source": [
    "print(len(teams))"
   ]
  },
  {
   "cell_type": "code",
   "execution_count": 30,
   "metadata": {},
   "outputs": [
    {
     "data": {
      "text/plain": [
       "EdgeDataView([('Dragonite', 'Slowbro', 1), ('Dragonite', 'Volcarona', 1), ('Dragonite', 'Suicune', 1), ('Dragonite', 'Hydreigon', 1), ('Dragonite', 'Politoed', 1), ('Dragonite', 'Ferrothorn', 1), ('Dragonite', 'Tentacruel', 1), ('Dragonite', 'Keldeo', 1), ('Dragonite', 'Thundurus', 1), ('Dragonite', 'Jirachi', 2), ('Dragonite', 'Kyurem', 1), ('Dragonite', 'Latios', 2), ('Dragonite', 'Magnezone', 2), ('Dragonite', 'Garchomp', 2), ('Dragonite', 'Starmie', 1), ('Slowbro', 'Volcarona', 1), ('Scrafty', 'Raikou', 1), ('Scrafty', 'Mew', 1), ('Raikou', 'Mew', 1), ('Meloetta', 'Kyurem', 1), ('Meloetta', 'Scizor', 1), ('Kyurem', 'Scizor', 1), ('Kyurem', 'Jirachi', 1), ('Kyurem', 'Latios', 1), ('Kyurem', 'Magnezone', 1), ('Kyurem', 'Garchomp', 1), ('Suicune', 'Hydreigon', 1), ('Mienfoo', 'Frillish', 1), ('Mienfoo', 'Porygon', 1), ('Mienfoo', 'Carvanha', 1), ('Mienfoo', 'Drilbur', 2), ('Mienfoo', 'Budew', 1), ('Mienfoo', 'Aipom', 1), ('Mienfoo', 'Magnemite', 1), ('Mienfoo', 'Ferroseed', 1), ('Mienfoo', 'Natu', 1), ('Frillish', 'Porygon', 2), ('Frillish', 'Carvanha', 1), ('Frillish', 'Drilbur', 2), ('Frillish', 'Budew', 1), ('Frillish', 'Tirtouga', 1), ('Frillish', 'Snover', 1), ('Frillish', 'Timburr', 1), ('Porygon', 'Carvanha', 1), ('Porygon', 'Drilbur', 2), ('Porygon', 'Budew', 1), ('Porygon', 'Tirtouga', 1), ('Porygon', 'Snover', 1), ('Porygon', 'Timburr', 1), ('Carvanha', 'Drilbur', 2), ('Carvanha', 'Budew', 1), ('Carvanha', 'Larvesta', 1), ('Carvanha', 'Staryu', 1), ('Carvanha', 'Timburr', 1), ('Carvanha', 'Abra', 1), ('Drilbur', 'Budew', 1), ('Drilbur', 'Larvesta', 1), ('Drilbur', 'Staryu', 1), ('Drilbur', 'Timburr', 2), ('Drilbur', 'Abra', 1), ('Drilbur', 'Tirtouga', 1), ('Drilbur', 'Snover', 1), ('Drilbur', 'Aipom', 1), ('Drilbur', 'Magnemite', 1), ('Drilbur', 'Ferroseed', 1), ('Drilbur', 'Natu', 1), ('Larvesta', 'Staryu', 1), ('Larvesta', 'Timburr', 1), ('Larvesta', 'Abra', 1), ('Staryu', 'Timburr', 1), ('Staryu', 'Abra', 1), ('Timburr', 'Abra', 1), ('Timburr', 'Tirtouga', 1), ('Timburr', 'Snover', 1), ('Tirtouga', 'Snover', 1), ('Omanyte', 'Tentacool', 1), ('Omanyte', 'Hippopotas', 1), ('Omanyte', 'Lileep', 1), ('Omanyte', 'Drifloon', 1), ('Omanyte', 'Vullaby', 1), ('Tentacool', 'Hippopotas', 1), ('Tentacool', 'Lileep', 1), ('Tentacool', 'Drifloon', 1), ('Tentacool', 'Vullaby', 1), ('Hippopotas', 'Lileep', 1), ('Hippopotas', 'Drifloon', 1), ('Hippopotas', 'Vullaby', 1), ('Lileep', 'Drifloon', 1), ('Lileep', 'Vullaby', 1), ('Drifloon', 'Vullaby', 1), ('Aipom', 'Magnemite', 1), ('Aipom', 'Ferroseed', 1), ('Aipom', 'Natu', 1), ('Magnemite', 'Ferroseed', 1), ('Magnemite', 'Natu', 1), ('Ferroseed', 'Natu', 1), ('Ferroseed', 'Spiritomb', 1), ('Ferroseed', 'Medicham', 1), ('Ferroseed', 'Druddigon', 1), ('Ferroseed', 'Rotom', 1), ('Ferroseed', 'Cryogonal', 1), ('Alomomola', 'Charizard', 2), ('Alomomola', 'Eelektross', 1), ('Alomomola', 'Serperior', 2), ('Alomomola', 'Golurk', 2), ('Alomomola', 'Skuntank', 1), ('Alomomola', 'Piloswine', 1), ('Alomomola', 'Gothorita', 1), ('Alomomola', 'Garbodor', 2), ('Alomomola', 'Rotom', 1), ('Alomomola', 'Gardevoir', 1), ('Alomomola', 'Kangaskhan', 1), ('Alomomola', 'Gallade', 1), ('Alomomola', 'Moltres', 1), ('Alomomola', 'Durant', 1), ('Alomomola', 'Rhydon', 1), ('Alomomola', 'Cryogonal', 1), ('Alomomola', 'Medicham', 1), ('Alomomola', 'Manectric', 1), ('Alomomola', 'Archeops', 1), ('Alomomola', 'Uxie', 1), ('Alomomola', 'Hitmonchan', 1), ('Charizard', 'Eelektross', 1), ('Charizard', 'Serperior', 2), ('Charizard', 'Golurk', 1), ('Charizard', 'Skuntank', 1), ('Charizard', 'Piloswine', 2), ('Charizard', 'Gothorita', 1), ('Charizard', 'Garbodor', 1), ('Charizard', 'Torterra', 1), ('Charizard', 'Samurott', 1), ('Charizard', 'Fraxure', 1), ('Charizard', 'Musharna', 1), ('Eelektross', 'Serperior', 1), ('Eelektross', 'Golurk', 1), ('Eelektross', 'Skuntank', 1), ('Serperior', 'Golurk', 1), ('Serperior', 'Skuntank', 1), ('Serperior', 'Piloswine', 1), ('Serperior', 'Gothorita', 1), ('Serperior', 'Garbodor', 1), ('Golurk', 'Skuntank', 1), ('Golurk', 'Swellow', 1), ('Golurk', 'Kangaskhan', 2), ('Golurk', 'Zangoose', 1), ('Golurk', 'Gothorita', 1), ('Golurk', 'Rotom', 2), ('Golurk', 'Gardevoir', 1), ('Golurk', 'Garbodor', 1), ('Skuntank', 'Gardevoir', 1), ('Skuntank', 'Regirock', 1), ('Skuntank', 'Misdreavus', 1), ('Skuntank', 'Seismitoad', 1), ('Skuntank', 'Braviary', 1), ('Swellow', 'Kangaskhan', 1), ('Swellow', 'Zangoose', 1), ('Swellow', 'Gothorita', 1), ('Swellow', 'Rotom', 1), ('Kangaskhan', 'Zangoose', 1), ('Kangaskhan', 'Gothorita', 1), ('Kangaskhan', 'Rotom', 2), ('Kangaskhan', 'Gardevoir', 1), ('Kangaskhan', 'Garbodor', 1), ('Zangoose', 'Gothorita', 1), ('Zangoose', 'Rotom', 1), ('Gothorita', 'Rotom', 1), ('Gothorita', 'Piloswine', 1), ('Gothorita', 'Garbodor', 1), ('Rotom', 'Gardevoir', 1), ('Rotom', 'Garbodor', 1), ('Rotom', 'Tyranitar', 4), ('Rotom', 'Latios', 4), ('Rotom', 'Ferrothorn', 2), ('Rotom', 'Landorus', 5), ('Rotom', 'Garchomp', 1), ('Rotom', 'Terrakion', 1), ('Rotom', 'Excadrill', 3), ('Rotom', 'Amoonguss', 1), ('Rotom', 'Breloom', 2), ('Rotom', 'Skarmory', 1), ('Rotom', 'Jirachi', 1), ('Rotom', 'Spiritomb', 1), ('Rotom', 'Medicham', 1), ('Rotom', 'Druddigon', 1), ('Rotom', 'Cryogonal', 1), ('Piloswine', 'Garbodor', 1), ('Piloswine', 'Torterra', 1), ('Piloswine', 'Samurott', 1), ('Piloswine', 'Fraxure', 1), ('Piloswine', 'Musharna', 1), ('Garbodor', 'Gardevoir', 1), ('Gardevoir', 'Regirock', 1), ('Gardevoir', 'Misdreavus', 1), ('Gardevoir', 'Seismitoad', 1), ('Gardevoir', 'Braviary', 1), ('Regirock', 'Misdreavus', 1), ('Regirock', 'Seismitoad', 1), ('Regirock', 'Braviary', 1), ('Misdreavus', 'Seismitoad', 1), ('Misdreavus', 'Braviary', 1), ('Misdreavus', 'Scolipede', 1), ('Misdreavus', 'Mesprit', 1), ('Misdreavus', 'Omastar', 1), ('Misdreavus', 'Escavalier', 1), ('Misdreavus', 'Uxie', 1), ('Seismitoad', 'Braviary', 1), ('Torterra', 'Samurott', 1), ('Torterra', 'Fraxure', 1), ('Torterra', 'Musharna', 1), ('Samurott', 'Fraxure', 1), ('Samurott', 'Musharna', 1), ('Fraxure', 'Musharna', 1), ('Tyranitar', 'Keldeo', 1), ('Tyranitar', 'Heatran', 1), ('Tyranitar', 'Amoonguss', 2), ('Tyranitar', 'Landorus', 7), ('Tyranitar', 'Excadrill', 4), ('Tyranitar', 'Latios', 5), ('Tyranitar', 'Ferrothorn', 4), ('Tyranitar', 'Garchomp', 1), ('Tyranitar', 'Terrakion', 1), ('Tyranitar', 'Alakazam', 2), ('Tyranitar', 'Reuniclus', 1), ('Tyranitar', 'Breloom', 1), ('Tyranitar', 'Skarmory', 1), ('Keldeo', 'Heatran', 1), ('Keldeo', 'Amoonguss', 1), ('Keldeo', 'Landorus', 1), ('Keldeo', 'Excadrill', 1), ('Keldeo', 'Politoed', 3), ('Keldeo', 'Ferrothorn', 3), ('Keldeo', 'Tentacruel', 3), ('Keldeo', 'Latios', 1), ('Keldeo', 'Thundurus', 3), ('Keldeo', 'Celebi', 1), ('Heatran', 'Amoonguss', 1), ('Heatran', 'Landorus', 1), ('Heatran', 'Excadrill', 1), ('Amoonguss', 'Landorus', 2), ('Amoonguss', 'Excadrill', 2), ('Amoonguss', 'Terrakion', 1), ('Landorus', 'Excadrill', 5), ('Landorus', 'Latios', 6), ('Landorus', 'Ferrothorn', 4), ('Landorus', 'Garchomp', 1), ('Landorus', 'Terrakion', 1), ('Landorus', 'Alakazam', 2), ('Landorus', 'Reuniclus', 1), ('Landorus', 'Breloom', 2), ('Landorus', 'Skarmory', 1), ('Landorus', 'Jirachi', 1), ('Excadrill', 'Terrakion', 1), ('Excadrill', 'Latios', 3), ('Excadrill', 'Ferrothorn', 2), ('Excadrill', 'Alakazam', 1), ('Excadrill', 'Breloom', 1), ('Excadrill', 'Jirachi', 1), ('Latios', 'Ferrothorn', 6), ('Latios', 'Garchomp', 4), ('Latios', 'Alakazam', 2), ('Latios', 'Reuniclus', 1), ('Latios', 'Breloom', 2), ('Latios', 'Skarmory', 1), ('Latios', 'Politoed', 2), ('Latios', 'Tentacruel', 2), ('Latios', 'Thundurus', 1), ('Latios', 'Tornadus', 1), ('Latios', 'Jirachi', 3), ('Latios', 'Magnezone', 2), ('Latios', 'Starmie', 1), ('Ferrothorn', 'Garchomp', 2), ('Ferrothorn', 'Alakazam', 2), ('Ferrothorn', 'Reuniclus', 1), ('Ferrothorn', 'Politoed', 4), ('Ferrothorn', 'Tentacruel', 4), ('Ferrothorn', 'Thundurus', 3), ('Ferrothorn', 'Tornadus', 1), ('Ferrothorn', 'Celebi', 1), ('Garchomp', 'Politoed', 1), ('Garchomp', 'Tentacruel', 1), ('Garchomp', 'Tornadus', 1), ('Garchomp', 'Jirachi', 2), ('Garchomp', 'Magnezone', 2), ('Garchomp', 'Starmie', 1), ('Alakazam', 'Reuniclus', 1), ('Breloom', 'Skarmory', 1), ('Breloom', 'Jirachi', 1), ('Politoed', 'Tentacruel', 4), ('Politoed', 'Thundurus', 3), ('Politoed', 'Tornadus', 1), ('Politoed', 'Celebi', 1), ('Tentacruel', 'Thundurus', 3), ('Tentacruel', 'Tornadus', 1), ('Tentacruel', 'Celebi', 1), ('Thundurus', 'Celebi', 1), ('Jirachi', 'Magnezone', 2), ('Jirachi', 'Starmie', 1), ('Magnezone', 'Starmie', 1), ('Throh', 'Dwebble', 1), ('Throh', 'Simipour', 1), ('Throh', 'Klang', 1), ('Throh', 'Zebstrika', 2), ('Throh', 'Jumpluff', 1), ('Throh', 'Maractus', 1), ('Throh', 'Beheeyem', 2), ('Throh', 'Mawile', 1), ('Throh', 'Swanna', 2), ('Throh', 'Banette', 1), ('Throh', 'Vileplume', 1), ('Throh', 'Relicanth', 1), ('Dwebble', 'Simipour', 1), ('Dwebble', 'Klang', 1), ('Dwebble', 'Zebstrika', 1), ('Dwebble', 'Jumpluff', 1), ('Simipour', 'Klang', 1), ('Simipour', 'Zebstrika', 1), ('Simipour', 'Jumpluff', 1), ('Klang', 'Zebstrika', 1), ('Klang', 'Jumpluff', 1), ('Zebstrika', 'Jumpluff', 1), ('Zebstrika', 'Beheeyem', 1), ('Zebstrika', 'Vileplume', 1), ('Zebstrika', 'Relicanth', 1), ('Zebstrika', 'Swanna', 1), ('Maractus', 'Beheeyem', 1), ('Maractus', 'Mawile', 1), ('Maractus', 'Swanna', 1), ('Maractus', 'Banette', 1), ('Beheeyem', 'Mawile', 1), ('Beheeyem', 'Swanna', 2), ('Beheeyem', 'Banette', 1), ('Beheeyem', 'Gabite', 1), ('Beheeyem', 'Simisage', 1), ('Beheeyem', 'Rampardos', 1), ('Beheeyem', 'Dodrio', 1), ('Beheeyem', 'Pelipper', 1), ('Beheeyem', 'Vileplume', 1), ('Beheeyem', 'Relicanth', 1), ('Mawile', 'Swanna', 1), ('Mawile', 'Banette', 1), ('Swanna', 'Banette', 1), ('Swanna', 'Vileplume', 1), ('Swanna', 'Relicanth', 1), ('Gabite', 'Simisage', 1), ('Gabite', 'Rampardos', 1), ('Gabite', 'Dodrio', 1), ('Gabite', 'Pelipper', 1), ('Simisage', 'Rampardos', 1), ('Simisage', 'Dodrio', 1), ('Simisage', 'Pelipper', 1), ('Rampardos', 'Dodrio', 1), ('Rampardos', 'Pelipper', 1), ('Dodrio', 'Pelipper', 1), ('Vileplume', 'Relicanth', 1), ('Scolipede', 'Mesprit', 1), ('Scolipede', 'Omastar', 1), ('Scolipede', 'Escavalier', 1), ('Scolipede', 'Uxie', 1), ('Mesprit', 'Omastar', 1), ('Mesprit', 'Escavalier', 1), ('Mesprit', 'Uxie', 1), ('Omastar', 'Escavalier', 1), ('Omastar', 'Uxie', 1), ('Escavalier', 'Uxie', 1), ('Uxie', 'Medicham', 1), ('Uxie', 'Manectric', 1), ('Uxie', 'Archeops', 1), ('Uxie', 'Hitmonchan', 1), ('Gallade', 'Moltres', 1), ('Gallade', 'Durant', 1), ('Gallade', 'Rhydon', 1), ('Gallade', 'Cryogonal', 1), ('Moltres', 'Durant', 1), ('Moltres', 'Rhydon', 1), ('Moltres', 'Cryogonal', 1), ('Durant', 'Rhydon', 2), ('Durant', 'Cryogonal', 1), ('Durant', 'Slowking', 1), ('Durant', 'Spiritomb', 1), ('Durant', 'Druddigon', 1), ('Durant', 'Roselia', 1), ('Rhydon', 'Cryogonal', 1), ('Rhydon', 'Slowking', 1), ('Rhydon', 'Spiritomb', 1), ('Rhydon', 'Druddigon', 1), ('Rhydon', 'Roselia', 1), ('Cryogonal', 'Spiritomb', 1), ('Cryogonal', 'Medicham', 1), ('Cryogonal', 'Druddigon', 1), ('Medicham', 'Manectric', 1), ('Medicham', 'Archeops', 1), ('Medicham', 'Hitmonchan', 1), ('Medicham', 'Spiritomb', 1), ('Medicham', 'Druddigon', 1), ('Manectric', 'Archeops', 1), ('Manectric', 'Hitmonchan', 1), ('Archeops', 'Hitmonchan', 1), ('Jynx', 'Haunter', 1), ('Jynx', 'Druddigon', 1), ('Jynx', 'Emboar', 1), ('Jynx', 'Sawsbuck', 1), ('Jynx', 'Kabutops', 1), ('Haunter', 'Druddigon', 1), ('Haunter', 'Emboar', 1), ('Haunter', 'Sawsbuck', 1), ('Haunter', 'Kabutops', 1), ('Druddigon', 'Emboar', 1), ('Druddigon', 'Sawsbuck', 1), ('Druddigon', 'Kabutops', 1), ('Druddigon', 'Spiritomb', 2), ('Druddigon', 'Slowking', 1), ('Druddigon', 'Roselia', 1), ('Emboar', 'Sawsbuck', 1), ('Emboar', 'Kabutops', 1), ('Sawsbuck', 'Kabutops', 1), ('Spiritomb', 'Slowking', 1), ('Spiritomb', 'Roselia', 1), ('Slowking', 'Roselia', 1)])"
      ]
     },
     "execution_count": 30,
     "metadata": {},
     "output_type": "execute_result"
    }
   ],
   "source": [
    "for team in teams:\n",
    "    for pok in team:\n",
    "        if(pok in apariciones):\n",
    "            apariciones[pok] += 1\n",
    "        else:\n",
    "            apariciones[pok] = 1\n",
    "        G.add_node(pok, type1 = pokedex[pok]['type1'], type2 = pokedex[pok]['type2'])\n",
    "        \n",
    "\n",
    "edgeList = []\n",
    "for team in teams:\n",
    "    edgeList.append([x for x in it.combinations(team, 2)])\n",
    "    \n",
    "for perm in edgeList :\n",
    "    for pokPair in perm :\n",
    "        if G.has_edge(pokPair[0], pokPair[1]):\n",
    "            G[pokPair[0]][pokPair[1]]['weight'] += 1\n",
    "        else:\n",
    "            G.add_edge(pokPair[0], pokPair[1], weight = 1)\n",
    "G.edges.data('weight')"
   ]
  },
  {
   "cell_type": "code",
   "execution_count": 31,
   "metadata": {},
   "outputs": [
    {
     "data": {
      "image/png": "[encoded data removed]",
      "text/plain": [
       "<Figure size 432x288 with 1 Axes>"
      ]
     },
     "metadata": {},
     "output_type": "display_data"
    }
   ],
   "source": [
    "nx.draw(G)"
   ]
  },
  {
   "cell_type": "markdown",
   "metadata": {},
   "source": [
    "# Ubers Teams"
   ]
  },
  {
   "cell_type": "code",
   "execution_count": 32,
   "metadata": {},
   "outputs": [],
   "source": [
    "teams = []\n",
    "\n",
    "t34= []\n",
    " \n",
    "t34.append('Deoxys')\n",
    "t34.append('Darkrai')\n",
    "t34.append('Latios')\n",
    "t34.append('Genesect')\n",
    "t34.append('Arceus')\n",
    "t34.append('Giratina')\n",
    " \n",
    "teams.append(t34)\n",
    " \n",
    "t35= []\n",
    " \n",
    "t35.append('Deoxys')\n",
    "t35.append('Giratina')\n",
    "t35.append('Kyogre')\n",
    "t35.append('Arceus')\n",
    "t35.append('Palkia')\n",
    "t35.append('Kabutops')\n",
    " \n",
    "teams.append(t35)\n",
    " \n",
    "t36= []\n",
    " \n",
    "t36.append('Deoxys')\n",
    "t36.append('Groudon')\n",
    "t36.append('Latias')\n",
    "t36.append('Darkrai')\n",
    "t36.append('Genesect')\n",
    "t36.append('Arceus')\n",
    " \n",
    "teams.append(t36)\n",
    " \n",
    "t37= []\n",
    " \n",
    "t37.append('Excadrill')\n",
    "t37.append('Arceus')\n",
    "t37.append('Latias')\n",
    "t37.append('Kyogre')\n",
    "t37.append('Ferrothorn')\n",
    "t37.append('Genesect')\n",
    " \n",
    "teams.append(t37)\n",
    " \n",
    "t38= []\n",
    " \n",
    "t38.append('Darkrai')\n",
    "t38.append('Groudon')\n",
    "t38.append('Ho-oh')\n",
    "t38.append('Giratina')\n",
    "t38.append('Espeon')\n",
    "t38.append('Arceus')\n",
    " \n",
    "teams.append(t38)\n",
    " \n",
    "t39= []\n",
    " \n",
    "t39.append('Deoxys')\n",
    "t39.append('Kyogre')\n",
    "t39.append('Giratina')\n",
    "t39.append('Latias')\n",
    "t39.append('Genesect')\n",
    "t39.append('Arceus')\n",
    " \n",
    "teams.append(t39)\n",
    " \n",
    "t40= []\n",
    " \n",
    "t40.append('Tyranitar')\n",
    "t40.append('Excadrill')\n",
    "t40.append('Arceus')\n",
    "t40.append('Palkia')\n",
    "t40.append('Ho-oh')\n",
    "t40.append('Genesect')\n",
    " \n",
    "teams.append(t40)\n",
    " \n",
    "t41= []\n",
    " \n",
    "t41.append('Deoxys')\n",
    "t41.append('Giratina')\n",
    "t41.append('Kyogre')\n",
    "t41.append('Ferrothorn')\n",
    "t41.append('Arceus')\n",
    "t41.append('Kingdra')\n",
    " \n",
    "teams.append(t41)\n",
    " \n",
    "t42= []\n",
    " \n",
    "t42.append('Tyranitar')\n",
    "t42.append('Kyogre')\n",
    "t42.append('Ferrothorn')\n",
    "t42.append('Arceus')\n",
    "t42.append('Giratina')\n",
    "t42.append('Genesect')\n",
    " \n",
    "teams.append(t42)\n",
    " \n",
    "t43= []\n",
    " \n",
    "t43.append('Kyogre')\n",
    "t43.append('Skarmory')\n",
    "t43.append('Giratina')\n",
    "t43.append('Dialga')\n",
    "t43.append('Arceus')\n",
    "t43.append('Kingdra')\n",
    " \n",
    "teams.append(t43)\n",
    " \n",
    "t44= []\n",
    " \n",
    "t44.append('Smeargle')\n",
    "t44.append('Groudon')\n",
    "t44.append('Cloyster')\n",
    "t44.append('Dialga')\n",
    "t44.append('Kyurem')\n",
    "t44.append('Arceus')\n",
    " \n",
    "teams.append(t44)\n",
    " \n",
    "t45= []\n",
    " \n",
    "t45.append('Groudon')\n",
    "t45.append('Forretress')\n",
    "t45.append('Ho-oh')\n",
    "t45.append('Latias')\n",
    "t45.append('Arceus')\n",
    "t45.append('Blaziken')\n",
    " \n",
    "teams.append(t45)\n",
    " \n",
    "t46= []\n",
    " \n",
    "t46.append('Dialga')\n",
    "t46.append('Kyogre')\n",
    "t46.append('Giratina')\n",
    "t46.append('Deoxys')\n",
    "t46.append('Arceus')\n",
    "t46.append('Genesect')\n",
    " \n",
    "teams.append(t46)\n",
    " \n",
    "t47= []\n",
    " \n",
    "t47.append('Deoxys')\n",
    "t47.append('Kyogre')\n",
    "t47.append('Giratina')\n",
    "t47.append('Arceus')\n",
    "t47.append('Genesect')\n",
    "t47.append('Palkia')\n",
    " \n",
    "teams.append(t47)\n",
    " \n",
    "t48= []\n",
    " \n",
    "t48.append('Deoxys')\n",
    "t48.append('Groudon')\n",
    "t48.append('Giratina')\n",
    "t48.append('Palkia')\n",
    "t48.append('Arceus')\n",
    "t48.append('Heatran')\n",
    " \n",
    "teams.append(t48)\n",
    " \n",
    "t49= []\n",
    " \n",
    "t49.append('Groudon')\n",
    "t49.append('Reshiram')\n",
    "t49.append('Latios')\n",
    "t49.append('Forretress')\n",
    "t49.append('Arceus')\n",
    "t49.append('Giratina')\n",
    " \n",
    "teams.append(t49)\n",
    " \n",
    "t50= []\n",
    " \n",
    "t50.append('Lugia')\n",
    "t50.append('Giratina')\n",
    "t50.append('Kyogre')\n",
    "t50.append('Arceus')\n",
    "t50.append('Forretress')\n",
    "t50.append('Jirachi')\n",
    " \n",
    "teams.append(t50)\n",
    " \n",
    "t51= []\n",
    " \n",
    "t51.append('Gliscor')\n",
    "t51.append('Tyranitar')\n",
    "t51.append('Giratina')\n",
    "t51.append('Arceus')\n",
    "t51.append('Excadrill')\n",
    "t51.append('Ferrothorn')\n",
    " \n",
    "teams.append(t51)\n",
    " \n",
    "t52= []\n",
    " \n",
    "t52.append('Groudon')\n",
    "t52.append('Heatran')\n",
    "t52.append('Arceus')\n",
    "t52.append('Lugia')\n",
    "t52.append('Forretress')\n",
    "t52.append('Giratina')\n",
    " \n",
    "teams.append(t52)\n",
    " \n",
    "t53= []\n",
    " \n",
    "t53.append('Arceus')\n",
    "t53.append('Kyogre')\n",
    "t53.append('Ferrothorn')\n",
    "t53.append('Tentacruel')\n",
    "t53.append('Giratina')\n",
    "t53.append('Lugia')\n",
    " \n",
    "teams.append(t53)"
   ]
  },
  {
   "cell_type": "code",
   "execution_count": 33,
   "metadata": {},
   "outputs": [
    {
     "name": "stdout",
     "output_type": "stream",
     "text": [
      "20\n"
     ]
    }
   ],
   "source": [
    "print(len(teams))"
   ]
  },
  {
   "cell_type": "code",
   "execution_count": 34,
   "metadata": {},
   "outputs": [
    {
     "data": {
      "text/plain": [
       "EdgeDataView([('Dragonite', 'Slowbro', 1), ('Dragonite', 'Volcarona', 1), ('Dragonite', 'Suicune', 1), ('Dragonite', 'Hydreigon', 1), ('Dragonite', 'Politoed', 1), ('Dragonite', 'Ferrothorn', 1), ('Dragonite', 'Tentacruel', 1), ('Dragonite', 'Keldeo', 1), ('Dragonite', 'Thundurus', 1), ('Dragonite', 'Jirachi', 2), ('Dragonite', 'Kyurem', 1), ('Dragonite', 'Latios', 2), ('Dragonite', 'Magnezone', 2), ('Dragonite', 'Garchomp', 2), ('Dragonite', 'Starmie', 1), ('Slowbro', 'Volcarona', 1), ('Scrafty', 'Raikou', 1), ('Scrafty', 'Mew', 1), ('Raikou', 'Mew', 1), ('Meloetta', 'Kyurem', 1), ('Meloetta', 'Scizor', 1), ('Kyurem', 'Scizor', 1), ('Kyurem', 'Jirachi', 1), ('Kyurem', 'Latios', 1), ('Kyurem', 'Magnezone', 1), ('Kyurem', 'Garchomp', 1), ('Kyurem', 'Smeargle', 1), ('Kyurem', 'Groudon', 1), ('Kyurem', 'Cloyster', 1), ('Kyurem', 'Dialga', 1), ('Kyurem', 'Arceus', 1), ('Suicune', 'Hydreigon', 1), ('Mienfoo', 'Frillish', 1), ('Mienfoo', 'Porygon', 1), ('Mienfoo', 'Carvanha', 1), ('Mienfoo', 'Drilbur', 2), ('Mienfoo', 'Budew', 1), ('Mienfoo', 'Aipom', 1), ('Mienfoo', 'Magnemite', 1), ('Mienfoo', 'Ferroseed', 1), ('Mienfoo', 'Natu', 1), ('Frillish', 'Porygon', 2), ('Frillish', 'Carvanha', 1), ('Frillish', 'Drilbur', 2), ('Frillish', 'Budew', 1), ('Frillish', 'Tirtouga', 1), ('Frillish', 'Snover', 1), ('Frillish', 'Timburr', 1), ('Porygon', 'Carvanha', 1), ('Porygon', 'Drilbur', 2), ('Porygon', 'Budew', 1), ('Porygon', 'Tirtouga', 1), ('Porygon', 'Snover', 1), ('Porygon', 'Timburr', 1), ('Carvanha', 'Drilbur', 2), ('Carvanha', 'Budew', 1), ('Carvanha', 'Larvesta', 1), ('Carvanha', 'Staryu', 1), ('Carvanha', 'Timburr', 1), ('Carvanha', 'Abra', 1), ('Drilbur', 'Budew', 1), ('Drilbur', 'Larvesta', 1), ('Drilbur', 'Staryu', 1), ('Drilbur', 'Timburr', 2), ('Drilbur', 'Abra', 1), ('Drilbur', 'Tirtouga', 1), ('Drilbur', 'Snover', 1), ('Drilbur', 'Aipom', 1), ('Drilbur', 'Magnemite', 1), ('Drilbur', 'Ferroseed', 1), ('Drilbur', 'Natu', 1), ('Larvesta', 'Staryu', 1), ('Larvesta', 'Timburr', 1), ('Larvesta', 'Abra', 1), ('Staryu', 'Timburr', 1), ('Staryu', 'Abra', 1), ('Timburr', 'Abra', 1), ('Timburr', 'Tirtouga', 1), ('Timburr', 'Snover', 1), ('Tirtouga', 'Snover', 1), ('Omanyte', 'Tentacool', 1), ('Omanyte', 'Hippopotas', 1), ('Omanyte', 'Lileep', 1), ('Omanyte', 'Drifloon', 1), ('Omanyte', 'Vullaby', 1), ('Tentacool', 'Hippopotas', 1), ('Tentacool', 'Lileep', 1), ('Tentacool', 'Drifloon', 1), ('Tentacool', 'Vullaby', 1), ('Hippopotas', 'Lileep', 1), ('Hippopotas', 'Drifloon', 1), ('Hippopotas', 'Vullaby', 1), ('Lileep', 'Drifloon', 1), ('Lileep', 'Vullaby', 1), ('Drifloon', 'Vullaby', 1), ('Aipom', 'Magnemite', 1), ('Aipom', 'Ferroseed', 1), ('Aipom', 'Natu', 1), ('Magnemite', 'Ferroseed', 1), ('Magnemite', 'Natu', 1), ('Ferroseed', 'Natu', 1), ('Ferroseed', 'Spiritomb', 1), ('Ferroseed', 'Medicham', 1), ('Ferroseed', 'Druddigon', 1), ('Ferroseed', 'Rotom', 1), ('Ferroseed', 'Cryogonal', 1), ('Alomomola', 'Charizard', 2), ('Alomomola', 'Eelektross', 1), ('Alomomola', 'Serperior', 2), ('Alomomola', 'Golurk', 2), ('Alomomola', 'Skuntank', 1), ('Alomomola', 'Piloswine', 1), ('Alomomola', 'Gothorita', 1), ('Alomomola', 'Garbodor', 2), ('Alomomola', 'Rotom', 1), ('Alomomola', 'Gardevoir', 1), ('Alomomola', 'Kangaskhan', 1), ('Alomomola', 'Gallade', 1), ('Alomomola', 'Moltres', 1), ('Alomomola', 'Durant', 1), ('Alomomola', 'Rhydon', 1), ('Alomomola', 'Cryogonal', 1), ('Alomomola', 'Medicham', 1), ('Alomomola', 'Manectric', 1), ('Alomomola', 'Archeops', 1), ('Alomomola', 'Uxie', 1), ('Alomomola', 'Hitmonchan', 1), ('Charizard', 'Eelektross', 1), ('Charizard', 'Serperior', 2), ('Charizard', 'Golurk', 1), ('Charizard', 'Skuntank', 1), ('Charizard', 'Piloswine', 2), ('Charizard', 'Gothorita', 1), ('Charizard', 'Garbodor', 1), ('Charizard', 'Torterra', 1), ('Charizard', 'Samurott', 1), ('Charizard', 'Fraxure', 1), ('Charizard', 'Musharna', 1), ('Eelektross', 'Serperior', 1), ('Eelektross', 'Golurk', 1), ('Eelektross', 'Skuntank', 1), ('Serperior', 'Golurk', 1), ('Serperior', 'Skuntank', 1), ('Serperior', 'Piloswine', 1), ('Serperior', 'Gothorita', 1), ('Serperior', 'Garbodor', 1), ('Golurk', 'Skuntank', 1), ('Golurk', 'Swellow', 1), ('Golurk', 'Kangaskhan', 2), ('Golurk', 'Zangoose', 1), ('Golurk', 'Gothorita', 1), ('Golurk', 'Rotom', 2), ('Golurk', 'Gardevoir', 1), ('Golurk', 'Garbodor', 1), ('Skuntank', 'Gardevoir', 1), ('Skuntank', 'Regirock', 1), ('Skuntank', 'Misdreavus', 1), ('Skuntank', 'Seismitoad', 1), ('Skuntank', 'Braviary', 1), ('Swellow', 'Kangaskhan', 1), ('Swellow', 'Zangoose', 1), ('Swellow', 'Gothorita', 1), ('Swellow', 'Rotom', 1), ('Kangaskhan', 'Zangoose', 1), ('Kangaskhan', 'Gothorita', 1), ('Kangaskhan', 'Rotom', 2), ('Kangaskhan', 'Gardevoir', 1), ('Kangaskhan', 'Garbodor', 1), ('Zangoose', 'Gothorita', 1), ('Zangoose', 'Rotom', 1), ('Gothorita', 'Rotom', 1), ('Gothorita', 'Piloswine', 1), ('Gothorita', 'Garbodor', 1), ('Rotom', 'Gardevoir', 1), ('Rotom', 'Garbodor', 1), ('Rotom', 'Tyranitar', 4), ('Rotom', 'Latios', 4), ('Rotom', 'Ferrothorn', 2), ('Rotom', 'Landorus', 5), ('Rotom', 'Garchomp', 1), ('Rotom', 'Terrakion', 1), ('Rotom', 'Excadrill', 3), ('Rotom', 'Amoonguss', 1), ('Rotom', 'Breloom', 2), ('Rotom', 'Skarmory', 1), ('Rotom', 'Jirachi', 1), ('Rotom', 'Spiritomb', 1), ('Rotom', 'Medicham', 1), ('Rotom', 'Druddigon', 1), ('Rotom', 'Cryogonal', 1), ('Piloswine', 'Garbodor', 1), ('Piloswine', 'Torterra', 1), ('Piloswine', 'Samurott', 1), ('Piloswine', 'Fraxure', 1), ('Piloswine', 'Musharna', 1), ('Garbodor', 'Gardevoir', 1), ('Gardevoir', 'Regirock', 1), ('Gardevoir', 'Misdreavus', 1), ('Gardevoir', 'Seismitoad', 1), ('Gardevoir', 'Braviary', 1), ('Regirock', 'Misdreavus', 1), ('Regirock', 'Seismitoad', 1), ('Regirock', 'Braviary', 1), ('Misdreavus', 'Seismitoad', 1), ('Misdreavus', 'Braviary', 1), ('Misdreavus', 'Scolipede', 1), ('Misdreavus', 'Mesprit', 1), ('Misdreavus', 'Omastar', 1), ('Misdreavus', 'Escavalier', 1), ('Misdreavus', 'Uxie', 1), ('Seismitoad', 'Braviary', 1), ('Torterra', 'Samurott', 1), ('Torterra', 'Fraxure', 1), ('Torterra', 'Musharna', 1), ('Samurott', 'Fraxure', 1), ('Samurott', 'Musharna', 1), ('Fraxure', 'Musharna', 1), ('Tyranitar', 'Keldeo', 1), ('Tyranitar', 'Heatran', 1), ('Tyranitar', 'Amoonguss', 2), ('Tyranitar', 'Landorus', 7), ('Tyranitar', 'Excadrill', 6), ('Tyranitar', 'Latios', 5), ('Tyranitar', 'Ferrothorn', 6), ('Tyranitar', 'Garchomp', 1), ('Tyranitar', 'Terrakion', 1), ('Tyranitar', 'Alakazam', 2), ('Tyranitar', 'Reuniclus', 1), ('Tyranitar', 'Breloom', 1), ('Tyranitar', 'Skarmory', 1), ('Tyranitar', 'Arceus', 3), ('Tyranitar', 'Palkia', 1), ('Tyranitar', 'Ho-oh', 1), ('Tyranitar', 'Genesect', 2), ('Tyranitar', 'Kyogre', 1), ('Tyranitar', 'Giratina', 2), ('Tyranitar', 'Gliscor', 1), ('Keldeo', 'Heatran', 1), ('Keldeo', 'Amoonguss', 1), ('Keldeo', 'Landorus', 1), ('Keldeo', 'Excadrill', 1), ('Keldeo', 'Politoed', 3), ('Keldeo', 'Ferrothorn', 3), ('Keldeo', 'Tentacruel', 3), ('Keldeo', 'Latios', 1), ('Keldeo', 'Thundurus', 3), ('Keldeo', 'Celebi', 1), ('Heatran', 'Amoonguss', 1), ('Heatran', 'Landorus', 1), ('Heatran', 'Excadrill', 1), ('Heatran', 'Deoxys', 1), ('Heatran', 'Groudon', 2), ('Heatran', 'Giratina', 2), ('Heatran', 'Palkia', 1), ('Heatran', 'Arceus', 2), ('Heatran', 'Lugia', 1), ('Heatran', 'Forretress', 1), ('Amoonguss', 'Landorus', 2), ('Amoonguss', 'Excadrill', 2), ('Amoonguss', 'Terrakion', 1), ('Landorus', 'Excadrill', 5), ('Landorus', 'Latios', 6), ('Landorus', 'Ferrothorn', 4), ('Landorus', 'Garchomp', 1), ('Landorus', 'Terrakion', 1), ('Landorus', 'Alakazam', 2), ('Landorus', 'Reuniclus', 1), ('Landorus', 'Breloom', 2), ('Landorus', 'Skarmory', 1), ('Landorus', 'Jirachi', 1), ('Excadrill', 'Terrakion', 1), ('Excadrill', 'Latios', 3), ('Excadrill', 'Ferrothorn', 4), ('Excadrill', 'Alakazam', 1), ('Excadrill', 'Breloom', 1), ('Excadrill', 'Jirachi', 1), ('Excadrill', 'Arceus', 3), ('Excadrill', 'Latias', 1), ('Excadrill', 'Kyogre', 1), ('Excadrill', 'Genesect', 2), ('Excadrill', 'Palkia', 1), ('Excadrill', 'Ho-oh', 1), ('Excadrill', 'Gliscor', 1), ('Excadrill', 'Giratina', 1), ('Latios', 'Ferrothorn', 6), ('Latios', 'Garchomp', 4), ('Latios', 'Alakazam', 2), ('Latios', 'Reuniclus', 1), ('Latios', 'Breloom', 2), ('Latios', 'Skarmory', 1), ('Latios', 'Politoed', 2), ('Latios', 'Tentacruel', 2), ('Latios', 'Thundurus', 1), ('Latios', 'Tornadus', 1), ('Latios', 'Jirachi', 3), ('Latios', 'Magnezone', 2), ('Latios', 'Starmie', 1), ('Latios', 'Deoxys', 1), ('Latios', 'Darkrai', 1), ('Latios', 'Genesect', 1), ('Latios', 'Arceus', 2), ('Latios', 'Giratina', 2), ('Latios', 'Groudon', 1), ('Latios', 'Reshiram', 1), ('Latios', 'Forretress', 1), ('Ferrothorn', 'Garchomp', 2), ('Ferrothorn', 'Alakazam', 2), ('Ferrothorn', 'Reuniclus', 1), ('Ferrothorn', 'Politoed', 4), ('Ferrothorn', 'Tentacruel', 5), ('Ferrothorn', 'Thundurus', 3), ('Ferrothorn', 'Tornadus', 1), ('Ferrothorn', 'Celebi', 1), ('Ferrothorn', 'Arceus', 5), ('Ferrothorn', 'Latias', 1), ('Ferrothorn', 'Kyogre', 4), ('Ferrothorn', 'Genesect', 2), ('Ferrothorn', 'Deoxys', 1), ('Ferrothorn', 'Giratina', 4), ('Ferrothorn', 'Kingdra', 1), ('Ferrothorn', 'Gliscor', 1), ('Ferrothorn', 'Lugia', 1), ('Garchomp', 'Politoed', 1), ('Garchomp', 'Tentacruel', 1), ('Garchomp', 'Tornadus', 1), ('Garchomp', 'Jirachi', 2), ('Garchomp', 'Magnezone', 2), ('Garchomp', 'Starmie', 1), ('Alakazam', 'Reuniclus', 1), ('Breloom', 'Skarmory', 1), ('Breloom', 'Jirachi', 1), ('Skarmory', 'Kyogre', 1), ('Skarmory', 'Giratina', 1), ('Skarmory', 'Dialga', 1), ('Skarmory', 'Arceus', 1), ('Skarmory', 'Kingdra', 1), ('Politoed', 'Tentacruel', 4), ('Politoed', 'Thundurus', 3), ('Politoed', 'Tornadus', 1), ('Politoed', 'Celebi', 1), ('Tentacruel', 'Thundurus', 3), ('Tentacruel', 'Tornadus', 1), ('Tentacruel', 'Celebi', 1), ('Tentacruel', 'Arceus', 1), ('Tentacruel', 'Kyogre', 1), ('Tentacruel', 'Giratina', 1), ('Tentacruel', 'Lugia', 1), ('Thundurus', 'Celebi', 1), ('Jirachi', 'Magnezone', 2), ('Jirachi', 'Starmie', 1), ('Jirachi', 'Lugia', 1), ('Jirachi', 'Giratina', 1), ('Jirachi', 'Kyogre', 1), ('Jirachi', 'Arceus', 1), ('Jirachi', 'Forretress', 1), ('Magnezone', 'Starmie', 1), ('Throh', 'Dwebble', 1), ('Throh', 'Simipour', 1), ('Throh', 'Klang', 1), ('Throh', 'Zebstrika', 2), ('Throh', 'Jumpluff', 1), ('Throh', 'Maractus', 1), ('Throh', 'Beheeyem', 2), ('Throh', 'Mawile', 1), ('Throh', 'Swanna', 2), ('Throh', 'Banette', 1), ('Throh', 'Vileplume', 1), ('Throh', 'Relicanth', 1), ('Dwebble', 'Simipour', 1), ('Dwebble', 'Klang', 1), ('Dwebble', 'Zebstrika', 1), ('Dwebble', 'Jumpluff', 1), ('Simipour', 'Klang', 1), ('Simipour', 'Zebstrika', 1), ('Simipour', 'Jumpluff', 1), ('Klang', 'Zebstrika', 1), ('Klang', 'Jumpluff', 1), ('Zebstrika', 'Jumpluff', 1), ('Zebstrika', 'Beheeyem', 1), ('Zebstrika', 'Vileplume', 1), ('Zebstrika', 'Relicanth', 1), ('Zebstrika', 'Swanna', 1), ('Maractus', 'Beheeyem', 1), ('Maractus', 'Mawile', 1), ('Maractus', 'Swanna', 1), ('Maractus', 'Banette', 1), ('Beheeyem', 'Mawile', 1), ('Beheeyem', 'Swanna', 2), ('Beheeyem', 'Banette', 1), ('Beheeyem', 'Gabite', 1), ('Beheeyem', 'Simisage', 1), ('Beheeyem', 'Rampardos', 1), ('Beheeyem', 'Dodrio', 1), ('Beheeyem', 'Pelipper', 1), ('Beheeyem', 'Vileplume', 1), ('Beheeyem', 'Relicanth', 1), ('Mawile', 'Swanna', 1), ('Mawile', 'Banette', 1), ('Swanna', 'Banette', 1), ('Swanna', 'Vileplume', 1), ('Swanna', 'Relicanth', 1), ('Gabite', 'Simisage', 1), ('Gabite', 'Rampardos', 1), ('Gabite', 'Dodrio', 1), ('Gabite', 'Pelipper', 1), ('Simisage', 'Rampardos', 1), ('Simisage', 'Dodrio', 1), ('Simisage', 'Pelipper', 1), ('Rampardos', 'Dodrio', 1), ('Rampardos', 'Pelipper', 1), ('Dodrio', 'Pelipper', 1), ('Vileplume', 'Relicanth', 1), ('Scolipede', 'Mesprit', 1), ('Scolipede', 'Omastar', 1), ('Scolipede', 'Escavalier', 1), ('Scolipede', 'Uxie', 1), ('Mesprit', 'Omastar', 1), ('Mesprit', 'Escavalier', 1), ('Mesprit', 'Uxie', 1), ('Omastar', 'Escavalier', 1), ('Omastar', 'Uxie', 1), ('Escavalier', 'Uxie', 1), ('Uxie', 'Medicham', 1), ('Uxie', 'Manectric', 1), ('Uxie', 'Archeops', 1), ('Uxie', 'Hitmonchan', 1), ('Gallade', 'Moltres', 1), ('Gallade', 'Durant', 1), ('Gallade', 'Rhydon', 1), ('Gallade', 'Cryogonal', 1), ('Moltres', 'Durant', 1), ('Moltres', 'Rhydon', 1), ('Moltres', 'Cryogonal', 1), ('Durant', 'Rhydon', 2), ('Durant', 'Cryogonal', 1), ('Durant', 'Slowking', 1), ('Durant', 'Spiritomb', 1), ('Durant', 'Druddigon', 1), ('Durant', 'Roselia', 1), ('Rhydon', 'Cryogonal', 1), ('Rhydon', 'Slowking', 1), ('Rhydon', 'Spiritomb', 1), ('Rhydon', 'Druddigon', 1), ('Rhydon', 'Roselia', 1), ('Cryogonal', 'Spiritomb', 1), ('Cryogonal', 'Medicham', 1), ('Cryogonal', 'Druddigon', 1), ('Medicham', 'Manectric', 1), ('Medicham', 'Archeops', 1), ('Medicham', 'Hitmonchan', 1), ('Medicham', 'Spiritomb', 1), ('Medicham', 'Druddigon', 1), ('Manectric', 'Archeops', 1), ('Manectric', 'Hitmonchan', 1), ('Archeops', 'Hitmonchan', 1), ('Jynx', 'Haunter', 1), ('Jynx', 'Druddigon', 1), ('Jynx', 'Emboar', 1), ('Jynx', 'Sawsbuck', 1), ('Jynx', 'Kabutops', 1), ('Haunter', 'Druddigon', 1), ('Haunter', 'Emboar', 1), ('Haunter', 'Sawsbuck', 1), ('Haunter', 'Kabutops', 1), ('Druddigon', 'Emboar', 1), ('Druddigon', 'Sawsbuck', 1), ('Druddigon', 'Kabutops', 1), ('Druddigon', 'Spiritomb', 2), ('Druddigon', 'Slowking', 1), ('Druddigon', 'Roselia', 1), ('Emboar', 'Sawsbuck', 1), ('Emboar', 'Kabutops', 1), ('Sawsbuck', 'Kabutops', 1), ('Kabutops', 'Deoxys', 1), ('Kabutops', 'Giratina', 1), ('Kabutops', 'Kyogre', 1), ('Kabutops', 'Arceus', 1), ('Kabutops', 'Palkia', 1), ('Spiritomb', 'Slowking', 1), ('Spiritomb', 'Roselia', 1), ('Slowking', 'Roselia', 1), ('Deoxys', 'Darkrai', 2), ('Deoxys', 'Genesect', 5), ('Deoxys', 'Arceus', 8), ('Deoxys', 'Giratina', 7), ('Deoxys', 'Kyogre', 5), ('Deoxys', 'Palkia', 3), ('Deoxys', 'Groudon', 2), ('Deoxys', 'Latias', 2), ('Deoxys', 'Kingdra', 1), ('Deoxys', 'Dialga', 1), ('Darkrai', 'Genesect', 2), ('Darkrai', 'Arceus', 3), ('Darkrai', 'Giratina', 2), ('Darkrai', 'Groudon', 2), ('Darkrai', 'Latias', 1), ('Darkrai', 'Ho-oh', 1), ('Darkrai', 'Espeon', 1), ('Genesect', 'Arceus', 8), ('Genesect', 'Giratina', 5), ('Genesect', 'Groudon', 1), ('Genesect', 'Latias', 3), ('Genesect', 'Kyogre', 5), ('Genesect', 'Palkia', 2), ('Genesect', 'Ho-oh', 1), ('Genesect', 'Dialga', 1), ('Arceus', 'Giratina', 15), ('Arceus', 'Kyogre', 10), ('Arceus', 'Palkia', 4), ('Arceus', 'Groudon', 7), ('Arceus', 'Latias', 4), ('Arceus', 'Ho-oh', 3), ('Arceus', 'Espeon', 1), ('Arceus', 'Kingdra', 2), ('Arceus', 'Dialga', 3), ('Arceus', 'Smeargle', 1), ('Arceus', 'Cloyster', 1), ('Arceus', 'Forretress', 4), ('Arceus', 'Blaziken', 1), ('Arceus', 'Reshiram', 1), ('Arceus', 'Lugia', 3), ('Arceus', 'Gliscor', 1), ('Giratina', 'Kyogre', 9), ('Giratina', 'Palkia', 3), ('Giratina', 'Groudon', 4), ('Giratina', 'Ho-oh', 1), ('Giratina', 'Espeon', 1), ('Giratina', 'Latias', 1), ('Giratina', 'Kingdra', 2), ('Giratina', 'Dialga', 2), ('Giratina', 'Reshiram', 1), ('Giratina', 'Forretress', 3), ('Giratina', 'Lugia', 3), ('Giratina', 'Gliscor', 1), ('Kyogre', 'Palkia', 2), ('Kyogre', 'Latias', 2), ('Kyogre', 'Kingdra', 2), ('Kyogre', 'Dialga', 2), ('Kyogre', 'Lugia', 2), ('Kyogre', 'Forretress', 1), ('Palkia', 'Ho-oh', 1), ('Palkia', 'Groudon', 1), ('Groudon', 'Latias', 2), ('Groudon', 'Ho-oh', 2), ('Groudon', 'Espeon', 1), ('Groudon', 'Smeargle', 1), ('Groudon', 'Cloyster', 1), ('Groudon', 'Dialga', 1), ('Groudon', 'Forretress', 3), ('Groudon', 'Blaziken', 1), ('Groudon', 'Reshiram', 1), ('Groudon', 'Lugia', 1), ('Latias', 'Forretress', 1), ('Latias', 'Ho-oh', 1), ('Latias', 'Blaziken', 1), ('Ho-oh', 'Espeon', 1), ('Ho-oh', 'Forretress', 1), ('Ho-oh', 'Blaziken', 1), ('Kingdra', 'Dialga', 1), ('Dialga', 'Smeargle', 1), ('Dialga', 'Cloyster', 1), ('Smeargle', 'Cloyster', 1), ('Forretress', 'Blaziken', 1), ('Forretress', 'Reshiram', 1), ('Forretress', 'Lugia', 2)])"
      ]
     },
     "execution_count": 34,
     "metadata": {},
     "output_type": "execute_result"
    }
   ],
   "source": [
    "for team in teams:\n",
    "    for pok in team:\n",
    "        if(pok in apariciones):\n",
    "            apariciones[pok] += 1\n",
    "        else:\n",
    "            apariciones[pok] = 1\n",
    "        G.add_node(pok, type1 = pokedex[pok]['type1'], type2 = pokedex[pok]['type2'])\n",
    "        \n",
    "\n",
    "edgeList = []\n",
    "for team in teams:\n",
    "    edgeList.append([x for x in it.combinations(team, 2)])\n",
    "    \n",
    "for perm in edgeList :\n",
    "    for pokPair in perm :\n",
    "        if G.has_edge(pokPair[0], pokPair[1]):\n",
    "            G[pokPair[0]][pokPair[1]]['weight'] += 1\n",
    "        else:\n",
    "            G.add_edge(pokPair[0], pokPair[1], weight = 1)\n",
    "G.edges.data('weight')"
   ]
  },
  {
   "cell_type": "code",
   "execution_count": 35,
   "metadata": {},
   "outputs": [
    {
     "data": {
      "image/png": "[encoded data removed]",
      "text/plain": [
       "<Figure size 432x288 with 1 Axes>"
      ]
     },
     "metadata": {},
     "output_type": "display_data"
    }
   ],
   "source": [
    "nx.draw(G)"
   ]
  },
  {
   "cell_type": "markdown",
   "metadata": {},
   "source": [
    "# UU Teams"
   ]
  },
  {
   "cell_type": "code",
   "execution_count": 36,
   "metadata": {},
   "outputs": [],
   "source": [
    "teams = []\n",
    "\n",
    "t54= []\n",
    " \n",
    "t54.append('Druddigon')\n",
    "t54.append('Blastoise')\n",
    "t54.append('Zapdos')\n",
    "t54.append('Roserade')\n",
    "t54.append('Flygon')\n",
    "t54.append('Victini')\n",
    " \n",
    "teams.append(t54)\n",
    " \n",
    "t55= []\n",
    " \n",
    "t55.append('Meloetta')\n",
    "t55.append('Blastoise')\n",
    "t55.append('Rhyperior')\n",
    "t55.append('Victini')\n",
    "t55.append('Zapdos')\n",
    "t55.append('Cobalion')\n",
    " \n",
    "teams.append(t55)\n",
    " \n",
    "t56= []\n",
    " \n",
    "t56.append('Victini')\n",
    "t56.append('Blastoise')\n",
    "t56.append('Nidoqueen')\n",
    "t56.append('Raikou')\n",
    "t56.append('Bronzong')\n",
    "t56.append('Heracross')\n",
    " \n",
    "teams.append(t56)\n",
    " \n",
    "t57= []\n",
    " \n",
    "t57.append('Golurk')\n",
    "t57.append('Druddigon')\n",
    "t57.append('Heracross')\n",
    "t57.append('Zapdos')\n",
    "t57.append('Bisharp')\n",
    "t57.append('Suicune')\n",
    " \n",
    "teams.append(t57)\n",
    " \n",
    "t58= []\n",
    " \n",
    "t58.append('Mew')\n",
    "t58.append('Rhyperior')\n",
    "t58.append('Qwilfish')\n",
    "t58.append('Heracross')\n",
    "t58.append('Togekiss')\n",
    "t58.append('Umbreon')\n",
    " \n",
    "teams.append(t58)\n",
    " \n",
    "t59= []\n",
    " \n",
    "t59.append('Zapdos')\n",
    "t59.append('Slowking')\n",
    "t59.append('Roserade')\n",
    "t59.append('Gligar')\n",
    "t59.append('Umbreon')\n",
    "t59.append('Hitmontop')\n",
    " \n",
    "teams.append(t59)\n",
    " \n",
    "t60= []\n",
    " \n",
    "t60.append('Raikou')\n",
    "t60.append('Cresselia')\n",
    "t60.append('Togekiss')\n",
    "t60.append('Umbreon')\n",
    "t60.append('Gligar')\n",
    "t60.append('Blastoise')\n",
    " \n",
    "teams.append(t60)\n",
    " \n",
    "t61= []\n",
    " \n",
    "t61.append('Mew')\n",
    "t61.append('Victini')\n",
    "t61.append('Tornadus')\n",
    "t61.append('Suicune')\n",
    "t61.append('Nidoking')\n",
    "t61.append('Druddigon')\n",
    " \n",
    "teams.append(t61)\n",
    " \n",
    "t62= []\n",
    " \n",
    "t62.append('Mew')\n",
    "t62.append('Darmanitan')\n",
    "t62.append('Lanturn')\n",
    "t62.append('Xatu')\n",
    "t62.append('Mienshao')\n",
    "t62.append('Gligar')\n",
    " \n",
    "teams.append(t62)"
   ]
  },
  {
   "cell_type": "code",
   "execution_count": 37,
   "metadata": {},
   "outputs": [
    {
     "name": "stdout",
     "output_type": "stream",
     "text": [
      "9\n"
     ]
    }
   ],
   "source": [
    "print(len(teams))"
   ]
  },
  {
   "cell_type": "code",
   "execution_count": 38,
   "metadata": {},
   "outputs": [
    {
     "data": {
      "text/plain": [
       "EdgeDataView([('Dragonite', 'Slowbro', 1), ('Dragonite', 'Volcarona', 1), ('Dragonite', 'Suicune', 1), ('Dragonite', 'Hydreigon', 1), ('Dragonite', 'Politoed', 1), ('Dragonite', 'Ferrothorn', 1), ('Dragonite', 'Tentacruel', 1), ('Dragonite', 'Keldeo', 1), ('Dragonite', 'Thundurus', 1), ('Dragonite', 'Jirachi', 2), ('Dragonite', 'Kyurem', 1), ('Dragonite', 'Latios', 2), ('Dragonite', 'Magnezone', 2), ('Dragonite', 'Garchomp', 2), ('Dragonite', 'Starmie', 1), ('Slowbro', 'Volcarona', 1), ('Scrafty', 'Raikou', 1), ('Scrafty', 'Mew', 1), ('Raikou', 'Mew', 1), ('Raikou', 'Victini', 1), ('Raikou', 'Blastoise', 2), ('Raikou', 'Nidoqueen', 1), ('Raikou', 'Bronzong', 1), ('Raikou', 'Heracross', 1), ('Raikou', 'Cresselia', 1), ('Raikou', 'Togekiss', 1), ('Raikou', 'Umbreon', 1), ('Raikou', 'Gligar', 1), ('Mew', 'Rhyperior', 1), ('Mew', 'Qwilfish', 1), ('Mew', 'Heracross', 1), ('Mew', 'Togekiss', 1), ('Mew', 'Umbreon', 1), ('Mew', 'Victini', 1), ('Mew', 'Tornadus', 1), ('Mew', 'Suicune', 1), ('Mew', 'Nidoking', 1), ('Mew', 'Druddigon', 1), ('Mew', 'Darmanitan', 1), ('Mew', 'Lanturn', 1), ('Mew', 'Xatu', 1), ('Mew', 'Mienshao', 1), ('Mew', 'Gligar', 1), ('Meloetta', 'Kyurem', 1), ('Meloetta', 'Scizor', 1), ('Meloetta', 'Blastoise', 1), ('Meloetta', 'Rhyperior', 1), ('Meloetta', 'Victini', 1), ('Meloetta', 'Zapdos', 1), ('Meloetta', 'Cobalion', 1), ('Kyurem', 'Scizor', 1), ('Kyurem', 'Jirachi', 1), ('Kyurem', 'Latios', 1), ('Kyurem', 'Magnezone', 1), ('Kyurem', 'Garchomp', 1), ('Kyurem', 'Smeargle', 1), ('Kyurem', 'Groudon', 1), ('Kyurem', 'Cloyster', 1), ('Kyurem', 'Dialga', 1), ('Kyurem', 'Arceus', 1), ('Suicune', 'Hydreigon', 1), ('Suicune', 'Golurk', 1), ('Suicune', 'Druddigon', 2), ('Suicune', 'Heracross', 1), ('Suicune', 'Zapdos', 1), ('Suicune', 'Bisharp', 1), ('Suicune', 'Victini', 1), ('Suicune', 'Tornadus', 1), ('Suicune', 'Nidoking', 1), ('Mienfoo', 'Frillish', 1), ('Mienfoo', 'Porygon', 1), ('Mienfoo', 'Carvanha', 1), ('Mienfoo', 'Drilbur', 2), ('Mienfoo', 'Budew', 1), ('Mienfoo', 'Aipom', 1), ('Mienfoo', 'Magnemite', 1), ('Mienfoo', 'Ferroseed', 1), ('Mienfoo', 'Natu', 1), ('Frillish', 'Porygon', 2), ('Frillish', 'Carvanha', 1), ('Frillish', 'Drilbur', 2), ('Frillish', 'Budew', 1), ('Frillish', 'Tirtouga', 1), ('Frillish', 'Snover', 1), ('Frillish', 'Timburr', 1), ('Porygon', 'Carvanha', 1), ('Porygon', 'Drilbur', 2), ('Porygon', 'Budew', 1), ('Porygon', 'Tirtouga', 1), ('Porygon', 'Snover', 1), ('Porygon', 'Timburr', 1), ('Carvanha', 'Drilbur', 2), ('Carvanha', 'Budew', 1), ('Carvanha', 'Larvesta', 1), ('Carvanha', 'Staryu', 1), ('Carvanha', 'Timburr', 1), ('Carvanha', 'Abra', 1), ('Drilbur', 'Budew', 1), ('Drilbur', 'Larvesta', 1), ('Drilbur', 'Staryu', 1), ('Drilbur', 'Timburr', 2), ('Drilbur', 'Abra', 1), ('Drilbur', 'Tirtouga', 1), ('Drilbur', 'Snover', 1), ('Drilbur', 'Aipom', 1), ('Drilbur', 'Magnemite', 1), ('Drilbur', 'Ferroseed', 1), ('Drilbur', 'Natu', 1), ('Larvesta', 'Staryu', 1), ('Larvesta', 'Timburr', 1), ('Larvesta', 'Abra', 1), ('Staryu', 'Timburr', 1), ('Staryu', 'Abra', 1), ('Timburr', 'Abra', 1), ('Timburr', 'Tirtouga', 1), ('Timburr', 'Snover', 1), ('Tirtouga', 'Snover', 1), ('Omanyte', 'Tentacool', 1), ('Omanyte', 'Hippopotas', 1), ('Omanyte', 'Lileep', 1), ('Omanyte', 'Drifloon', 1), ('Omanyte', 'Vullaby', 1), ('Tentacool', 'Hippopotas', 1), ('Tentacool', 'Lileep', 1), ('Tentacool', 'Drifloon', 1), ('Tentacool', 'Vullaby', 1), ('Hippopotas', 'Lileep', 1), ('Hippopotas', 'Drifloon', 1), ('Hippopotas', 'Vullaby', 1), ('Lileep', 'Drifloon', 1), ('Lileep', 'Vullaby', 1), ('Drifloon', 'Vullaby', 1), ('Aipom', 'Magnemite', 1), ('Aipom', 'Ferroseed', 1), ('Aipom', 'Natu', 1), ('Magnemite', 'Ferroseed', 1), ('Magnemite', 'Natu', 1), ('Ferroseed', 'Natu', 1), ('Ferroseed', 'Spiritomb', 1), ('Ferroseed', 'Medicham', 1), ('Ferroseed', 'Druddigon', 1), ('Ferroseed', 'Rotom', 1), ('Ferroseed', 'Cryogonal', 1), ('Alomomola', 'Charizard', 2), ('Alomomola', 'Eelektross', 1), ('Alomomola', 'Serperior', 2), ('Alomomola', 'Golurk', 2), ('Alomomola', 'Skuntank', 1), ('Alomomola', 'Piloswine', 1), ('Alomomola', 'Gothorita', 1), ('Alomomola', 'Garbodor', 2), ('Alomomola', 'Rotom', 1), ('Alomomola', 'Gardevoir', 1), ('Alomomola', 'Kangaskhan', 1), ('Alomomola', 'Gallade', 1), ('Alomomola', 'Moltres', 1), ('Alomomola', 'Durant', 1), ('Alomomola', 'Rhydon', 1), ('Alomomola', 'Cryogonal', 1), ('Alomomola', 'Medicham', 1), ('Alomomola', 'Manectric', 1), ('Alomomola', 'Archeops', 1), ('Alomomola', 'Uxie', 1), ('Alomomola', 'Hitmonchan', 1), ('Charizard', 'Eelektross', 1), ('Charizard', 'Serperior', 2), ('Charizard', 'Golurk', 1), ('Charizard', 'Skuntank', 1), ('Charizard', 'Piloswine', 2), ('Charizard', 'Gothorita', 1), ('Charizard', 'Garbodor', 1), ('Charizard', 'Torterra', 1), ('Charizard', 'Samurott', 1), ('Charizard', 'Fraxure', 1), ('Charizard', 'Musharna', 1), ('Eelektross', 'Serperior', 1), ('Eelektross', 'Golurk', 1), ('Eelektross', 'Skuntank', 1), ('Serperior', 'Golurk', 1), ('Serperior', 'Skuntank', 1), ('Serperior', 'Piloswine', 1), ('Serperior', 'Gothorita', 1), ('Serperior', 'Garbodor', 1), ('Golurk', 'Skuntank', 1), ('Golurk', 'Swellow', 1), ('Golurk', 'Kangaskhan', 2), ('Golurk', 'Zangoose', 1), ('Golurk', 'Gothorita', 1), ('Golurk', 'Rotom', 2), ('Golurk', 'Gardevoir', 1), ('Golurk', 'Garbodor', 1), ('Golurk', 'Druddigon', 1), ('Golurk', 'Heracross', 1), ('Golurk', 'Zapdos', 1), ('Golurk', 'Bisharp', 1), ('Skuntank', 'Gardevoir', 1), ('Skuntank', 'Regirock', 1), ('Skuntank', 'Misdreavus', 1), ('Skuntank', 'Seismitoad', 1), ('Skuntank', 'Braviary', 1), ('Swellow', 'Kangaskhan', 1), ('Swellow', 'Zangoose', 1), ('Swellow', 'Gothorita', 1), ('Swellow', 'Rotom', 1), ('Kangaskhan', 'Zangoose', 1), ('Kangaskhan', 'Gothorita', 1), ('Kangaskhan', 'Rotom', 2), ('Kangaskhan', 'Gardevoir', 1), ('Kangaskhan', 'Garbodor', 1), ('Zangoose', 'Gothorita', 1), ('Zangoose', 'Rotom', 1), ('Gothorita', 'Rotom', 1), ('Gothorita', 'Piloswine', 1), ('Gothorita', 'Garbodor', 1), ('Rotom', 'Gardevoir', 1), ('Rotom', 'Garbodor', 1), ('Rotom', 'Tyranitar', 4), ('Rotom', 'Latios', 4), ('Rotom', 'Ferrothorn', 2), ('Rotom', 'Landorus', 5), ('Rotom', 'Garchomp', 1), ('Rotom', 'Terrakion', 1), ('Rotom', 'Excadrill', 3), ('Rotom', 'Amoonguss', 1), ('Rotom', 'Breloom', 2), ('Rotom', 'Skarmory', 1), ('Rotom', 'Jirachi', 1), ('Rotom', 'Spiritomb', 1), ('Rotom', 'Medicham', 1), ('Rotom', 'Druddigon', 1), ('Rotom', 'Cryogonal', 1), ('Piloswine', 'Garbodor', 1), ('Piloswine', 'Torterra', 1), ('Piloswine', 'Samurott', 1), ('Piloswine', 'Fraxure', 1), ('Piloswine', 'Musharna', 1), ('Garbodor', 'Gardevoir', 1), ('Gardevoir', 'Regirock', 1), ('Gardevoir', 'Misdreavus', 1), ('Gardevoir', 'Seismitoad', 1), ('Gardevoir', 'Braviary', 1), ('Regirock', 'Misdreavus', 1), ('Regirock', 'Seismitoad', 1), ('Regirock', 'Braviary', 1), ('Misdreavus', 'Seismitoad', 1), ('Misdreavus', 'Braviary', 1), ('Misdreavus', 'Scolipede', 1), ('Misdreavus', 'Mesprit', 1), ('Misdreavus', 'Omastar', 1), ('Misdreavus', 'Escavalier', 1), ('Misdreavus', 'Uxie', 1), ('Seismitoad', 'Braviary', 1), ('Torterra', 'Samurott', 1), ('Torterra', 'Fraxure', 1), ('Torterra', 'Musharna', 1), ('Samurott', 'Fraxure', 1), ('Samurott', 'Musharna', 1), ('Fraxure', 'Musharna', 1), ('Tyranitar', 'Keldeo', 1), ('Tyranitar', 'Heatran', 1), ('Tyranitar', 'Amoonguss', 2), ('Tyranitar', 'Landorus', 7), ('Tyranitar', 'Excadrill', 6), ('Tyranitar', 'Latios', 5), ('Tyranitar', 'Ferrothorn', 6), ('Tyranitar', 'Garchomp', 1), ('Tyranitar', 'Terrakion', 1), ('Tyranitar', 'Alakazam', 2), ('Tyranitar', 'Reuniclus', 1), ('Tyranitar', 'Breloom', 1), ('Tyranitar', 'Skarmory', 1), ('Tyranitar', 'Arceus', 3), ('Tyranitar', 'Palkia', 1), ('Tyranitar', 'Ho-oh', 1), ('Tyranitar', 'Genesect', 2), ('Tyranitar', 'Kyogre', 1), ('Tyranitar', 'Giratina', 2), ('Tyranitar', 'Gliscor', 1), ('Keldeo', 'Heatran', 1), ('Keldeo', 'Amoonguss', 1), ('Keldeo', 'Landorus', 1), ('Keldeo', 'Excadrill', 1), ('Keldeo', 'Politoed', 3), ('Keldeo', 'Ferrothorn', 3), ('Keldeo', 'Tentacruel', 3), ('Keldeo', 'Latios', 1), ('Keldeo', 'Thundurus', 3), ('Keldeo', 'Celebi', 1), ('Heatran', 'Amoonguss', 1), ('Heatran', 'Landorus', 1), ('Heatran', 'Excadrill', 1), ('Heatran', 'Deoxys', 1), ('Heatran', 'Groudon', 2), ('Heatran', 'Giratina', 2), ('Heatran', 'Palkia', 1), ('Heatran', 'Arceus', 2), ('Heatran', 'Lugia', 1), ('Heatran', 'Forretress', 1), ('Amoonguss', 'Landorus', 2), ('Amoonguss', 'Excadrill', 2), ('Amoonguss', 'Terrakion', 1), ('Landorus', 'Excadrill', 5), ('Landorus', 'Latios', 6), ('Landorus', 'Ferrothorn', 4), ('Landorus', 'Garchomp', 1), ('Landorus', 'Terrakion', 1), ('Landorus', 'Alakazam', 2), ('Landorus', 'Reuniclus', 1), ('Landorus', 'Breloom', 2), ('Landorus', 'Skarmory', 1), ('Landorus', 'Jirachi', 1), ('Excadrill', 'Terrakion', 1), ('Excadrill', 'Latios', 3), ('Excadrill', 'Ferrothorn', 4), ('Excadrill', 'Alakazam', 1), ('Excadrill', 'Breloom', 1), ('Excadrill', 'Jirachi', 1), ('Excadrill', 'Arceus', 3), ('Excadrill', 'Latias', 1), ('Excadrill', 'Kyogre', 1), ('Excadrill', 'Genesect', 2), ('Excadrill', 'Palkia', 1), ('Excadrill', 'Ho-oh', 1), ('Excadrill', 'Gliscor', 1), ('Excadrill', 'Giratina', 1), ('Latios', 'Ferrothorn', 6), ('Latios', 'Garchomp', 4), ('Latios', 'Alakazam', 2), ('Latios', 'Reuniclus', 1), ('Latios', 'Breloom', 2), ('Latios', 'Skarmory', 1), ('Latios', 'Politoed', 2), ('Latios', 'Tentacruel', 2), ('Latios', 'Thundurus', 1), ('Latios', 'Tornadus', 1), ('Latios', 'Jirachi', 3), ('Latios', 'Magnezone', 2), ('Latios', 'Starmie', 1), ('Latios', 'Deoxys', 1), ('Latios', 'Darkrai', 1), ('Latios', 'Genesect', 1), ('Latios', 'Arceus', 2), ('Latios', 'Giratina', 2), ('Latios', 'Groudon', 1), ('Latios', 'Reshiram', 1), ('Latios', 'Forretress', 1), ('Ferrothorn', 'Garchomp', 2), ('Ferrothorn', 'Alakazam', 2), ('Ferrothorn', 'Reuniclus', 1), ('Ferrothorn', 'Politoed', 4), ('Ferrothorn', 'Tentacruel', 5), ('Ferrothorn', 'Thundurus', 3), ('Ferrothorn', 'Tornadus', 1), ('Ferrothorn', 'Celebi', 1), ('Ferrothorn', 'Arceus', 5), ('Ferrothorn', 'Latias', 1), ('Ferrothorn', 'Kyogre', 4), ('Ferrothorn', 'Genesect', 2), ('Ferrothorn', 'Deoxys', 1), ('Ferrothorn', 'Giratina', 4), ('Ferrothorn', 'Kingdra', 1), ('Ferrothorn', 'Gliscor', 1), ('Ferrothorn', 'Lugia', 1), ('Garchomp', 'Politoed', 1), ('Garchomp', 'Tentacruel', 1), ('Garchomp', 'Tornadus', 1), ('Garchomp', 'Jirachi', 2), ('Garchomp', 'Magnezone', 2), ('Garchomp', 'Starmie', 1), ('Alakazam', 'Reuniclus', 1), ('Breloom', 'Skarmory', 1), ('Breloom', 'Jirachi', 1), ('Skarmory', 'Kyogre', 1), ('Skarmory', 'Giratina', 1), ('Skarmory', 'Dialga', 1), ('Skarmory', 'Arceus', 1), ('Skarmory', 'Kingdra', 1), ('Politoed', 'Tentacruel', 4), ('Politoed', 'Thundurus', 3), ('Politoed', 'Tornadus', 1), ('Politoed', 'Celebi', 1), ('Tentacruel', 'Thundurus', 3), ('Tentacruel', 'Tornadus', 1), ('Tentacruel', 'Celebi', 1), ('Tentacruel', 'Arceus', 1), ('Tentacruel', 'Kyogre', 1), ('Tentacruel', 'Giratina', 1), ('Tentacruel', 'Lugia', 1), ('Thundurus', 'Celebi', 1), ('Tornadus', 'Victini', 1), ('Tornadus', 'Nidoking', 1), ('Tornadus', 'Druddigon', 1), ('Jirachi', 'Magnezone', 2), ('Jirachi', 'Starmie', 1), ('Jirachi', 'Lugia', 1), ('Jirachi', 'Giratina', 1), ('Jirachi', 'Kyogre', 1), ('Jirachi', 'Arceus', 1), ('Jirachi', 'Forretress', 1), ('Magnezone', 'Starmie', 1), ('Throh', 'Dwebble', 1), ('Throh', 'Simipour', 1), ('Throh', 'Klang', 1), ('Throh', 'Zebstrika', 2), ('Throh', 'Jumpluff', 1), ('Throh', 'Maractus', 1), ('Throh', 'Beheeyem', 2), ('Throh', 'Mawile', 1), ('Throh', 'Swanna', 2), ('Throh', 'Banette', 1), ('Throh', 'Vileplume', 1), ('Throh', 'Relicanth', 1), ('Dwebble', 'Simipour', 1), ('Dwebble', 'Klang', 1), ('Dwebble', 'Zebstrika', 1), ('Dwebble', 'Jumpluff', 1), ('Simipour', 'Klang', 1), ('Simipour', 'Zebstrika', 1), ('Simipour', 'Jumpluff', 1), ('Klang', 'Zebstrika', 1), ('Klang', 'Jumpluff', 1), ('Zebstrika', 'Jumpluff', 1), ('Zebstrika', 'Beheeyem', 1), ('Zebstrika', 'Vileplume', 1), ('Zebstrika', 'Relicanth', 1), ('Zebstrika', 'Swanna', 1), ('Maractus', 'Beheeyem', 1), ('Maractus', 'Mawile', 1), ('Maractus', 'Swanna', 1), ('Maractus', 'Banette', 1), ('Beheeyem', 'Mawile', 1), ('Beheeyem', 'Swanna', 2), ('Beheeyem', 'Banette', 1), ('Beheeyem', 'Gabite', 1), ('Beheeyem', 'Simisage', 1), ('Beheeyem', 'Rampardos', 1), ('Beheeyem', 'Dodrio', 1), ('Beheeyem', 'Pelipper', 1), ('Beheeyem', 'Vileplume', 1), ('Beheeyem', 'Relicanth', 1), ('Mawile', 'Swanna', 1), ('Mawile', 'Banette', 1), ('Swanna', 'Banette', 1), ('Swanna', 'Vileplume', 1), ('Swanna', 'Relicanth', 1), ('Gabite', 'Simisage', 1), ('Gabite', 'Rampardos', 1), ('Gabite', 'Dodrio', 1), ('Gabite', 'Pelipper', 1), ('Simisage', 'Rampardos', 1), ('Simisage', 'Dodrio', 1), ('Simisage', 'Pelipper', 1), ('Rampardos', 'Dodrio', 1), ('Rampardos', 'Pelipper', 1), ('Dodrio', 'Pelipper', 1), ('Vileplume', 'Relicanth', 1), ('Scolipede', 'Mesprit', 1), ('Scolipede', 'Omastar', 1), ('Scolipede', 'Escavalier', 1), ('Scolipede', 'Uxie', 1), ('Mesprit', 'Omastar', 1), ('Mesprit', 'Escavalier', 1), ('Mesprit', 'Uxie', 1), ('Omastar', 'Escavalier', 1), ('Omastar', 'Uxie', 1), ('Escavalier', 'Uxie', 1), ('Uxie', 'Medicham', 1), ('Uxie', 'Manectric', 1), ('Uxie', 'Archeops', 1), ('Uxie', 'Hitmonchan', 1), ('Gallade', 'Moltres', 1), ('Gallade', 'Durant', 1), ('Gallade', 'Rhydon', 1), ('Gallade', 'Cryogonal', 1), ('Moltres', 'Durant', 1), ('Moltres', 'Rhydon', 1), ('Moltres', 'Cryogonal', 1), ('Durant', 'Rhydon', 2), ('Durant', 'Cryogonal', 1), ('Durant', 'Slowking', 1), ('Durant', 'Spiritomb', 1), ('Durant', 'Druddigon', 1), ('Durant', 'Roselia', 1), ('Rhydon', 'Cryogonal', 1), ('Rhydon', 'Slowking', 1), ('Rhydon', 'Spiritomb', 1), ('Rhydon', 'Druddigon', 1), ('Rhydon', 'Roselia', 1), ('Cryogonal', 'Spiritomb', 1), ('Cryogonal', 'Medicham', 1), ('Cryogonal', 'Druddigon', 1), ('Medicham', 'Manectric', 1), ('Medicham', 'Archeops', 1), ('Medicham', 'Hitmonchan', 1), ('Medicham', 'Spiritomb', 1), ('Medicham', 'Druddigon', 1), ('Manectric', 'Archeops', 1), ('Manectric', 'Hitmonchan', 1), ('Archeops', 'Hitmonchan', 1), ('Jynx', 'Haunter', 1), ('Jynx', 'Druddigon', 1), ('Jynx', 'Emboar', 1), ('Jynx', 'Sawsbuck', 1), ('Jynx', 'Kabutops', 1), ('Haunter', 'Druddigon', 1), ('Haunter', 'Emboar', 1), ('Haunter', 'Sawsbuck', 1), ('Haunter', 'Kabutops', 1), ('Druddigon', 'Emboar', 1), ('Druddigon', 'Sawsbuck', 1), ('Druddigon', 'Kabutops', 1), ('Druddigon', 'Spiritomb', 2), ('Druddigon', 'Slowking', 1), ('Druddigon', 'Roselia', 1), ('Druddigon', 'Blastoise', 1), ('Druddigon', 'Zapdos', 2), ('Druddigon', 'Roserade', 1), ('Druddigon', 'Flygon', 1), ('Druddigon', 'Victini', 2), ('Druddigon', 'Heracross', 1), ('Druddigon', 'Bisharp', 1), ('Druddigon', 'Nidoking', 1), ('Emboar', 'Sawsbuck', 1), ('Emboar', 'Kabutops', 1), ('Sawsbuck', 'Kabutops', 1), ('Kabutops', 'Deoxys', 1), ('Kabutops', 'Giratina', 1), ('Kabutops', 'Kyogre', 1), ('Kabutops', 'Arceus', 1), ('Kabutops', 'Palkia', 1), ('Spiritomb', 'Slowking', 1), ('Spiritomb', 'Roselia', 1), ('Slowking', 'Roselia', 1), ('Slowking', 'Zapdos', 1), ('Slowking', 'Roserade', 1), ('Slowking', 'Gligar', 1), ('Slowking', 'Umbreon', 1), ('Slowking', 'Hitmontop', 1), ('Deoxys', 'Darkrai', 2), ('Deoxys', 'Genesect', 5), ('Deoxys', 'Arceus', 8), ('Deoxys', 'Giratina', 7), ('Deoxys', 'Kyogre', 5), ('Deoxys', 'Palkia', 3), ('Deoxys', 'Groudon', 2), ('Deoxys', 'Latias', 2), ('Deoxys', 'Kingdra', 1), ('Deoxys', 'Dialga', 1), ('Darkrai', 'Genesect', 2), ('Darkrai', 'Arceus', 3), ('Darkrai', 'Giratina', 2), ('Darkrai', 'Groudon', 2), ('Darkrai', 'Latias', 1), ('Darkrai', 'Ho-oh', 1), ('Darkrai', 'Espeon', 1), ('Genesect', 'Arceus', 8), ('Genesect', 'Giratina', 5), ('Genesect', 'Groudon', 1), ('Genesect', 'Latias', 3), ('Genesect', 'Kyogre', 5), ('Genesect', 'Palkia', 2), ('Genesect', 'Ho-oh', 1), ('Genesect', 'Dialga', 1), ('Arceus', 'Giratina', 15), ('Arceus', 'Kyogre', 10), ('Arceus', 'Palkia', 4), ('Arceus', 'Groudon', 7), ('Arceus', 'Latias', 4), ('Arceus', 'Ho-oh', 3), ('Arceus', 'Espeon', 1), ('Arceus', 'Kingdra', 2), ('Arceus', 'Dialga', 3), ('Arceus', 'Smeargle', 1), ('Arceus', 'Cloyster', 1), ('Arceus', 'Forretress', 4), ('Arceus', 'Blaziken', 1), ('Arceus', 'Reshiram', 1), ('Arceus', 'Lugia', 3), ('Arceus', 'Gliscor', 1), ('Giratina', 'Kyogre', 9), ('Giratina', 'Palkia', 3), ('Giratina', 'Groudon', 4), ('Giratina', 'Ho-oh', 1), ('Giratina', 'Espeon', 1), ('Giratina', 'Latias', 1), ('Giratina', 'Kingdra', 2), ('Giratina', 'Dialga', 2), ('Giratina', 'Reshiram', 1), ('Giratina', 'Forretress', 3), ('Giratina', 'Lugia', 3), ('Giratina', 'Gliscor', 1), ('Kyogre', 'Palkia', 2), ('Kyogre', 'Latias', 2), ('Kyogre', 'Kingdra', 2), ('Kyogre', 'Dialga', 2), ('Kyogre', 'Lugia', 2), ('Kyogre', 'Forretress', 1), ('Palkia', 'Ho-oh', 1), ('Palkia', 'Groudon', 1), ('Groudon', 'Latias', 2), ('Groudon', 'Ho-oh', 2), ('Groudon', 'Espeon', 1), ('Groudon', 'Smeargle', 1), ('Groudon', 'Cloyster', 1), ('Groudon', 'Dialga', 1), ('Groudon', 'Forretress', 3), ('Groudon', 'Blaziken', 1), ('Groudon', 'Reshiram', 1), ('Groudon', 'Lugia', 1), ('Latias', 'Forretress', 1), ('Latias', 'Ho-oh', 1), ('Latias', 'Blaziken', 1), ('Ho-oh', 'Espeon', 1), ('Ho-oh', 'Forretress', 1), ('Ho-oh', 'Blaziken', 1), ('Kingdra', 'Dialga', 1), ('Dialga', 'Smeargle', 1), ('Dialga', 'Cloyster', 1), ('Smeargle', 'Cloyster', 1), ('Forretress', 'Blaziken', 1), ('Forretress', 'Reshiram', 1), ('Forretress', 'Lugia', 2), ('Blastoise', 'Zapdos', 2), ('Blastoise', 'Roserade', 1), ('Blastoise', 'Flygon', 1), ('Blastoise', 'Victini', 3), ('Blastoise', 'Rhyperior', 1), ('Blastoise', 'Cobalion', 1), ('Blastoise', 'Nidoqueen', 1), ('Blastoise', 'Bronzong', 1), ('Blastoise', 'Heracross', 1), ('Blastoise', 'Cresselia', 1), ('Blastoise', 'Togekiss', 1), ('Blastoise', 'Umbreon', 1), ('Blastoise', 'Gligar', 1), ('Zapdos', 'Roserade', 2), ('Zapdos', 'Flygon', 1), ('Zapdos', 'Victini', 2), ('Zapdos', 'Rhyperior', 1), ('Zapdos', 'Cobalion', 1), ('Zapdos', 'Heracross', 1), ('Zapdos', 'Bisharp', 1), ('Zapdos', 'Gligar', 1), ('Zapdos', 'Umbreon', 1), ('Zapdos', 'Hitmontop', 1), ('Roserade', 'Flygon', 1), ('Roserade', 'Victini', 1), ('Roserade', 'Gligar', 1), ('Roserade', 'Umbreon', 1), ('Roserade', 'Hitmontop', 1), ('Flygon', 'Victini', 1), ('Victini', 'Rhyperior', 1), ('Victini', 'Cobalion', 1), ('Victini', 'Nidoqueen', 1), ('Victini', 'Bronzong', 1), ('Victini', 'Heracross', 1), ('Victini', 'Nidoking', 1), ('Rhyperior', 'Cobalion', 1), ('Rhyperior', 'Qwilfish', 1), ('Rhyperior', 'Heracross', 1), ('Rhyperior', 'Togekiss', 1), ('Rhyperior', 'Umbreon', 1), ('Nidoqueen', 'Bronzong', 1), ('Nidoqueen', 'Heracross', 1), ('Bronzong', 'Heracross', 1), ('Heracross', 'Bisharp', 1), ('Heracross', 'Qwilfish', 1), ('Heracross', 'Togekiss', 1), ('Heracross', 'Umbreon', 1), ('Qwilfish', 'Togekiss', 1), ('Qwilfish', 'Umbreon', 1), ('Togekiss', 'Umbreon', 2), ('Togekiss', 'Cresselia', 1), ('Togekiss', 'Gligar', 1), ('Umbreon', 'Gligar', 2), ('Umbreon', 'Hitmontop', 1), ('Umbreon', 'Cresselia', 1), ('Gligar', 'Hitmontop', 1), ('Gligar', 'Cresselia', 1), ('Gligar', 'Darmanitan', 1), ('Gligar', 'Lanturn', 1), ('Gligar', 'Xatu', 1), ('Gligar', 'Mienshao', 1), ('Darmanitan', 'Lanturn', 1), ('Darmanitan', 'Xatu', 1), ('Darmanitan', 'Mienshao', 1), ('Lanturn', 'Xatu', 1), ('Lanturn', 'Mienshao', 1), ('Xatu', 'Mienshao', 1)])"
      ]
     },
     "execution_count": 38,
     "metadata": {},
     "output_type": "execute_result"
    }
   ],
   "source": [
    "for team in teams:\n",
    "    for pok in team:\n",
    "        if(pok in apariciones):\n",
    "            apariciones[pok] += 1\n",
    "        else:\n",
    "            apariciones[pok] = 1\n",
    "        G.add_node(pok, type1 = pokedex[pok]['type1'], type2 = pokedex[pok]['type2'])\n",
    "        \n",
    "\n",
    "edgeList = []\n",
    "for team in teams:\n",
    "    edgeList.append([x for x in it.combinations(team, 2)])\n",
    "    \n",
    "for perm in edgeList :\n",
    "    for pokPair in perm :\n",
    "        if G.has_edge(pokPair[0], pokPair[1]):\n",
    "            G[pokPair[0]][pokPair[1]]['weight'] += 1\n",
    "        else:\n",
    "            G.add_edge(pokPair[0], pokPair[1], weight = 1)\n",
    "G.edges.data('weight')"
   ]
  },
  {
   "cell_type": "code",
   "execution_count": 39,
   "metadata": {},
   "outputs": [
    {
     "data": {
      "image/png": "[encoded data removed]",
      "text/plain": [
       "<Figure size 432x288 with 1 Axes>"
      ]
     },
     "metadata": {},
     "output_type": "display_data"
    }
   ],
   "source": [
    "nx.draw(G)"
   ]
  },
  {
   "cell_type": "markdown",
   "metadata": {},
   "source": [
    "# ZU Teams"
   ]
  },
  {
   "cell_type": "code",
   "execution_count": 40,
   "metadata": {},
   "outputs": [],
   "source": [
    "teams = []\n",
    "\n",
    "t63= []\n",
    " \n",
    "t63.append('Simisear')\n",
    "t63.append('Kingler')\n",
    "t63.append('Vanilluxe')\n",
    "t63.append('Exploud')\n",
    "t63.append('Sandshrew')\n",
    "t63.append('Kecleon')\n",
    " \n",
    "teams.append(t63)\n",
    " \n",
    "t64= []\n",
    " \n",
    "t64.append('Octillery')\n",
    "t64.append('Raticate')\n",
    "t64.append('Lampent')\n",
    "t64.append('Vullaby')\n",
    "t64.append('Baltoy')\n",
    "t64.append('Shelgon')\n",
    " \n",
    "teams.append(t64)\n",
    " \n",
    "t65= []\n",
    " \n",
    "t65.append('Exploud')\n",
    "t65.append('Gastly')\n",
    "t65.append('Simisear')\n",
    "t65.append('Dragonair')\n",
    "t65.append('Boldore')\n",
    "t65.append('Staryu')\n",
    " \n",
    "teams.append(t65)\n",
    " \n",
    "t66= []\n",
    " \n",
    "t66.append('Onix')\n",
    "t66.append('Illumise')\n",
    "t66.append('Weepinbell')\n",
    "t66.append('Leafeon')\n",
    "t66.append('Bellossom')\n",
    "t66.append('Munchlax')\n",
    " \n",
    "teams.append(t66)\n",
    " \n",
    "t67= []\n",
    " \n",
    "t67.append('Raticate')\n",
    "t67.append('Beedrill')\n",
    "t67.append('Boldore')\n",
    "t67.append('Emolga')\n",
    "t67.append('Simisear')\n",
    "t67.append('Staryu')\n",
    " \n",
    "teams.append(t67)\n",
    " \n",
    "t68= []\n",
    " \n",
    "t68.append('Emolga')\n",
    "t68.append('Clefairy')\n",
    "t68.append('Sandshrew')\n",
    "t68.append('Chimecho')\n",
    "t68.append('Frillish')\n",
    "t68.append('Beedrill')\n",
    " \n",
    "teams.append(t68)"
   ]
  },
  {
   "cell_type": "code",
   "execution_count": 41,
   "metadata": {},
   "outputs": [
    {
     "name": "stdout",
     "output_type": "stream",
     "text": [
      "6\n"
     ]
    }
   ],
   "source": [
    "print(len(teams))"
   ]
  },
  {
   "cell_type": "code",
   "execution_count": 42,
   "metadata": {},
   "outputs": [
    {
     "data": {
      "text/plain": [
       "EdgeDataView([('Dragonite', 'Slowbro', 1), ('Dragonite', 'Volcarona', 1), ('Dragonite', 'Suicune', 1), ('Dragonite', 'Hydreigon', 1), ('Dragonite', 'Politoed', 1), ('Dragonite', 'Ferrothorn', 1), ('Dragonite', 'Tentacruel', 1), ('Dragonite', 'Keldeo', 1), ('Dragonite', 'Thundurus', 1), ('Dragonite', 'Jirachi', 2), ('Dragonite', 'Kyurem', 1), ('Dragonite', 'Latios', 2), ('Dragonite', 'Magnezone', 2), ('Dragonite', 'Garchomp', 2), ('Dragonite', 'Starmie', 1), ('Slowbro', 'Volcarona', 1), ('Scrafty', 'Raikou', 1), ('Scrafty', 'Mew', 1), ('Raikou', 'Mew', 1), ('Raikou', 'Victini', 1), ('Raikou', 'Blastoise', 2), ('Raikou', 'Nidoqueen', 1), ('Raikou', 'Bronzong', 1), ('Raikou', 'Heracross', 1), ('Raikou', 'Cresselia', 1), ('Raikou', 'Togekiss', 1), ('Raikou', 'Umbreon', 1), ('Raikou', 'Gligar', 1), ('Mew', 'Rhyperior', 1), ('Mew', 'Qwilfish', 1), ('Mew', 'Heracross', 1), ('Mew', 'Togekiss', 1), ('Mew', 'Umbreon', 1), ('Mew', 'Victini', 1), ('Mew', 'Tornadus', 1), ('Mew', 'Suicune', 1), ('Mew', 'Nidoking', 1), ('Mew', 'Druddigon', 1), ('Mew', 'Darmanitan', 1), ('Mew', 'Lanturn', 1), ('Mew', 'Xatu', 1), ('Mew', 'Mienshao', 1), ('Mew', 'Gligar', 1), ('Meloetta', 'Kyurem', 1), ('Meloetta', 'Scizor', 1), ('Meloetta', 'Blastoise', 1), ('Meloetta', 'Rhyperior', 1), ('Meloetta', 'Victini', 1), ('Meloetta', 'Zapdos', 1), ('Meloetta', 'Cobalion', 1), ('Kyurem', 'Scizor', 1), ('Kyurem', 'Jirachi', 1), ('Kyurem', 'Latios', 1), ('Kyurem', 'Magnezone', 1), ('Kyurem', 'Garchomp', 1), ('Kyurem', 'Smeargle', 1), ('Kyurem', 'Groudon', 1), ('Kyurem', 'Cloyster', 1), ('Kyurem', 'Dialga', 1), ('Kyurem', 'Arceus', 1), ('Suicune', 'Hydreigon', 1), ('Suicune', 'Golurk', 1), ('Suicune', 'Druddigon', 2), ('Suicune', 'Heracross', 1), ('Suicune', 'Zapdos', 1), ('Suicune', 'Bisharp', 1), ('Suicune', 'Victini', 1), ('Suicune', 'Tornadus', 1), ('Suicune', 'Nidoking', 1), ('Mienfoo', 'Frillish', 1), ('Mienfoo', 'Porygon', 1), ('Mienfoo', 'Carvanha', 1), ('Mienfoo', 'Drilbur', 2), ('Mienfoo', 'Budew', 1), ('Mienfoo', 'Aipom', 1), ('Mienfoo', 'Magnemite', 1), ('Mienfoo', 'Ferroseed', 1), ('Mienfoo', 'Natu', 1), ('Frillish', 'Porygon', 2), ('Frillish', 'Carvanha', 1), ('Frillish', 'Drilbur', 2), ('Frillish', 'Budew', 1), ('Frillish', 'Tirtouga', 1), ('Frillish', 'Snover', 1), ('Frillish', 'Timburr', 1), ('Frillish', 'Emolga', 1), ('Frillish', 'Clefairy', 1), ('Frillish', 'Sandshrew', 1), ('Frillish', 'Chimecho', 1), ('Frillish', 'Beedrill', 1), ('Porygon', 'Carvanha', 1), ('Porygon', 'Drilbur', 2), ('Porygon', 'Budew', 1), ('Porygon', 'Tirtouga', 1), ('Porygon', 'Snover', 1), ('Porygon', 'Timburr', 1), ('Carvanha', 'Drilbur', 2), ('Carvanha', 'Budew', 1), ('Carvanha', 'Larvesta', 1), ('Carvanha', 'Staryu', 1), ('Carvanha', 'Timburr', 1), ('Carvanha', 'Abra', 1), ('Drilbur', 'Budew', 1), ('Drilbur', 'Larvesta', 1), ('Drilbur', 'Staryu', 1), ('Drilbur', 'Timburr', 2), ('Drilbur', 'Abra', 1), ('Drilbur', 'Tirtouga', 1), ('Drilbur', 'Snover', 1), ('Drilbur', 'Aipom', 1), ('Drilbur', 'Magnemite', 1), ('Drilbur', 'Ferroseed', 1), ('Drilbur', 'Natu', 1), ('Larvesta', 'Staryu', 1), ('Larvesta', 'Timburr', 1), ('Larvesta', 'Abra', 1), ('Staryu', 'Timburr', 1), ('Staryu', 'Abra', 1), ('Staryu', 'Exploud', 1), ('Staryu', 'Gastly', 1), ('Staryu', 'Simisear', 2), ('Staryu', 'Dragonair', 1), ('Staryu', 'Boldore', 2), ('Staryu', 'Raticate', 1), ('Staryu', 'Beedrill', 1), ('Staryu', 'Emolga', 1), ('Timburr', 'Abra', 1), ('Timburr', 'Tirtouga', 1), ('Timburr', 'Snover', 1), ('Tirtouga', 'Snover', 1), ('Omanyte', 'Tentacool', 1), ('Omanyte', 'Hippopotas', 1), ('Omanyte', 'Lileep', 1), ('Omanyte', 'Drifloon', 1), ('Omanyte', 'Vullaby', 1), ('Tentacool', 'Hippopotas', 1), ('Tentacool', 'Lileep', 1), ('Tentacool', 'Drifloon', 1), ('Tentacool', 'Vullaby', 1), ('Hippopotas', 'Lileep', 1), ('Hippopotas', 'Drifloon', 1), ('Hippopotas', 'Vullaby', 1), ('Lileep', 'Drifloon', 1), ('Lileep', 'Vullaby', 1), ('Drifloon', 'Vullaby', 1), ('Vullaby', 'Octillery', 1), ('Vullaby', 'Raticate', 1), ('Vullaby', 'Lampent', 1), ('Vullaby', 'Baltoy', 1), ('Vullaby', 'Shelgon', 1), ('Aipom', 'Magnemite', 1), ('Aipom', 'Ferroseed', 1), ('Aipom', 'Natu', 1), ('Magnemite', 'Ferroseed', 1), ('Magnemite', 'Natu', 1), ('Ferroseed', 'Natu', 1), ('Ferroseed', 'Spiritomb', 1), ('Ferroseed', 'Medicham', 1), ('Ferroseed', 'Druddigon', 1), ('Ferroseed', 'Rotom', 1), ('Ferroseed', 'Cryogonal', 1), ('Alomomola', 'Charizard', 2), ('Alomomola', 'Eelektross', 1), ('Alomomola', 'Serperior', 2), ('Alomomola', 'Golurk', 2), ('Alomomola', 'Skuntank', 1), ('Alomomola', 'Piloswine', 1), ('Alomomola', 'Gothorita', 1), ('Alomomola', 'Garbodor', 2), ('Alomomola', 'Rotom', 1), ('Alomomola', 'Gardevoir', 1), ('Alomomola', 'Kangaskhan', 1), ('Alomomola', 'Gallade', 1), ('Alomomola', 'Moltres', 1), ('Alomomola', 'Durant', 1), ('Alomomola', 'Rhydon', 1), ('Alomomola', 'Cryogonal', 1), ('Alomomola', 'Medicham', 1), ('Alomomola', 'Manectric', 1), ('Alomomola', 'Archeops', 1), ('Alomomola', 'Uxie', 1), ('Alomomola', 'Hitmonchan', 1), ('Charizard', 'Eelektross', 1), ('Charizard', 'Serperior', 2), ('Charizard', 'Golurk', 1), ('Charizard', 'Skuntank', 1), ('Charizard', 'Piloswine', 2), ('Charizard', 'Gothorita', 1), ('Charizard', 'Garbodor', 1), ('Charizard', 'Torterra', 1), ('Charizard', 'Samurott', 1), ('Charizard', 'Fraxure', 1), ('Charizard', 'Musharna', 1), ('Eelektross', 'Serperior', 1), ('Eelektross', 'Golurk', 1), ('Eelektross', 'Skuntank', 1), ('Serperior', 'Golurk', 1), ('Serperior', 'Skuntank', 1), ('Serperior', 'Piloswine', 1), ('Serperior', 'Gothorita', 1), ('Serperior', 'Garbodor', 1), ('Golurk', 'Skuntank', 1), ('Golurk', 'Swellow', 1), ('Golurk', 'Kangaskhan', 2), ('Golurk', 'Zangoose', 1), ('Golurk', 'Gothorita', 1), ('Golurk', 'Rotom', 2), ('Golurk', 'Gardevoir', 1), ('Golurk', 'Garbodor', 1), ('Golurk', 'Druddigon', 1), ('Golurk', 'Heracross', 1), ('Golurk', 'Zapdos', 1), ('Golurk', 'Bisharp', 1), ('Skuntank', 'Gardevoir', 1), ('Skuntank', 'Regirock', 1), ('Skuntank', 'Misdreavus', 1), ('Skuntank', 'Seismitoad', 1), ('Skuntank', 'Braviary', 1), ('Swellow', 'Kangaskhan', 1), ('Swellow', 'Zangoose', 1), ('Swellow', 'Gothorita', 1), ('Swellow', 'Rotom', 1), ('Kangaskhan', 'Zangoose', 1), ('Kangaskhan', 'Gothorita', 1), ('Kangaskhan', 'Rotom', 2), ('Kangaskhan', 'Gardevoir', 1), ('Kangaskhan', 'Garbodor', 1), ('Zangoose', 'Gothorita', 1), ('Zangoose', 'Rotom', 1), ('Gothorita', 'Rotom', 1), ('Gothorita', 'Piloswine', 1), ('Gothorita', 'Garbodor', 1), ('Rotom', 'Gardevoir', 1), ('Rotom', 'Garbodor', 1), ('Rotom', 'Tyranitar', 4), ('Rotom', 'Latios', 4), ('Rotom', 'Ferrothorn', 2), ('Rotom', 'Landorus', 5), ('Rotom', 'Garchomp', 1), ('Rotom', 'Terrakion', 1), ('Rotom', 'Excadrill', 3), ('Rotom', 'Amoonguss', 1), ('Rotom', 'Breloom', 2), ('Rotom', 'Skarmory', 1), ('Rotom', 'Jirachi', 1), ('Rotom', 'Spiritomb', 1), ('Rotom', 'Medicham', 1), ('Rotom', 'Druddigon', 1), ('Rotom', 'Cryogonal', 1), ('Piloswine', 'Garbodor', 1), ('Piloswine', 'Torterra', 1), ('Piloswine', 'Samurott', 1), ('Piloswine', 'Fraxure', 1), ('Piloswine', 'Musharna', 1), ('Garbodor', 'Gardevoir', 1), ('Gardevoir', 'Regirock', 1), ('Gardevoir', 'Misdreavus', 1), ('Gardevoir', 'Seismitoad', 1), ('Gardevoir', 'Braviary', 1), ('Regirock', 'Misdreavus', 1), ('Regirock', 'Seismitoad', 1), ('Regirock', 'Braviary', 1), ('Misdreavus', 'Seismitoad', 1), ('Misdreavus', 'Braviary', 1), ('Misdreavus', 'Scolipede', 1), ('Misdreavus', 'Mesprit', 1), ('Misdreavus', 'Omastar', 1), ('Misdreavus', 'Escavalier', 1), ('Misdreavus', 'Uxie', 1), ('Seismitoad', 'Braviary', 1), ('Torterra', 'Samurott', 1), ('Torterra', 'Fraxure', 1), ('Torterra', 'Musharna', 1), ('Samurott', 'Fraxure', 1), ('Samurott', 'Musharna', 1), ('Fraxure', 'Musharna', 1), ('Tyranitar', 'Keldeo', 1), ('Tyranitar', 'Heatran', 1), ('Tyranitar', 'Amoonguss', 2), ('Tyranitar', 'Landorus', 7), ('Tyranitar', 'Excadrill', 6), ('Tyranitar', 'Latios', 5), ('Tyranitar', 'Ferrothorn', 6), ('Tyranitar', 'Garchomp', 1), ('Tyranitar', 'Terrakion', 1), ('Tyranitar', 'Alakazam', 2), ('Tyranitar', 'Reuniclus', 1), ('Tyranitar', 'Breloom', 1), ('Tyranitar', 'Skarmory', 1), ('Tyranitar', 'Arceus', 3), ('Tyranitar', 'Palkia', 1), ('Tyranitar', 'Ho-oh', 1), ('Tyranitar', 'Genesect', 2), ('Tyranitar', 'Kyogre', 1), ('Tyranitar', 'Giratina', 2), ('Tyranitar', 'Gliscor', 1), ('Keldeo', 'Heatran', 1), ('Keldeo', 'Amoonguss', 1), ('Keldeo', 'Landorus', 1), ('Keldeo', 'Excadrill', 1), ('Keldeo', 'Politoed', 3), ('Keldeo', 'Ferrothorn', 3), ('Keldeo', 'Tentacruel', 3), ('Keldeo', 'Latios', 1), ('Keldeo', 'Thundurus', 3), ('Keldeo', 'Celebi', 1), ('Heatran', 'Amoonguss', 1), ('Heatran', 'Landorus', 1), ('Heatran', 'Excadrill', 1), ('Heatran', 'Deoxys', 1), ('Heatran', 'Groudon', 2), ('Heatran', 'Giratina', 2), ('Heatran', 'Palkia', 1), ('Heatran', 'Arceus', 2), ('Heatran', 'Lugia', 1), ('Heatran', 'Forretress', 1), ('Amoonguss', 'Landorus', 2), ('Amoonguss', 'Excadrill', 2), ('Amoonguss', 'Terrakion', 1), ('Landorus', 'Excadrill', 5), ('Landorus', 'Latios', 6), ('Landorus', 'Ferrothorn', 4), ('Landorus', 'Garchomp', 1), ('Landorus', 'Terrakion', 1), ('Landorus', 'Alakazam', 2), ('Landorus', 'Reuniclus', 1), ('Landorus', 'Breloom', 2), ('Landorus', 'Skarmory', 1), ('Landorus', 'Jirachi', 1), ('Excadrill', 'Terrakion', 1), ('Excadrill', 'Latios', 3), ('Excadrill', 'Ferrothorn', 4), ('Excadrill', 'Alakazam', 1), ('Excadrill', 'Breloom', 1), ('Excadrill', 'Jirachi', 1), ('Excadrill', 'Arceus', 3), ('Excadrill', 'Latias', 1), ('Excadrill', 'Kyogre', 1), ('Excadrill', 'Genesect', 2), ('Excadrill', 'Palkia', 1), ('Excadrill', 'Ho-oh', 1), ('Excadrill', 'Gliscor', 1), ('Excadrill', 'Giratina', 1), ('Latios', 'Ferrothorn', 6), ('Latios', 'Garchomp', 4), ('Latios', 'Alakazam', 2), ('Latios', 'Reuniclus', 1), ('Latios', 'Breloom', 2), ('Latios', 'Skarmory', 1), ('Latios', 'Politoed', 2), ('Latios', 'Tentacruel', 2), ('Latios', 'Thundurus', 1), ('Latios', 'Tornadus', 1), ('Latios', 'Jirachi', 3), ('Latios', 'Magnezone', 2), ('Latios', 'Starmie', 1), ('Latios', 'Deoxys', 1), ('Latios', 'Darkrai', 1), ('Latios', 'Genesect', 1), ('Latios', 'Arceus', 2), ('Latios', 'Giratina', 2), ('Latios', 'Groudon', 1), ('Latios', 'Reshiram', 1), ('Latios', 'Forretress', 1), ('Ferrothorn', 'Garchomp', 2), ('Ferrothorn', 'Alakazam', 2), ('Ferrothorn', 'Reuniclus', 1), ('Ferrothorn', 'Politoed', 4), ('Ferrothorn', 'Tentacruel', 5), ('Ferrothorn', 'Thundurus', 3), ('Ferrothorn', 'Tornadus', 1), ('Ferrothorn', 'Celebi', 1), ('Ferrothorn', 'Arceus', 5), ('Ferrothorn', 'Latias', 1), ('Ferrothorn', 'Kyogre', 4), ('Ferrothorn', 'Genesect', 2), ('Ferrothorn', 'Deoxys', 1), ('Ferrothorn', 'Giratina', 4), ('Ferrothorn', 'Kingdra', 1), ('Ferrothorn', 'Gliscor', 1), ('Ferrothorn', 'Lugia', 1), ('Garchomp', 'Politoed', 1), ('Garchomp', 'Tentacruel', 1), ('Garchomp', 'Tornadus', 1), ('Garchomp', 'Jirachi', 2), ('Garchomp', 'Magnezone', 2), ('Garchomp', 'Starmie', 1), ('Alakazam', 'Reuniclus', 1), ('Breloom', 'Skarmory', 1), ('Breloom', 'Jirachi', 1), ('Skarmory', 'Kyogre', 1), ('Skarmory', 'Giratina', 1), ('Skarmory', 'Dialga', 1), ('Skarmory', 'Arceus', 1), ('Skarmory', 'Kingdra', 1), ('Politoed', 'Tentacruel', 4), ('Politoed', 'Thundurus', 3), ('Politoed', 'Tornadus', 1), ('Politoed', 'Celebi', 1), ('Tentacruel', 'Thundurus', 3), ('Tentacruel', 'Tornadus', 1), ('Tentacruel', 'Celebi', 1), ('Tentacruel', 'Arceus', 1), ('Tentacruel', 'Kyogre', 1), ('Tentacruel', 'Giratina', 1), ('Tentacruel', 'Lugia', 1), ('Thundurus', 'Celebi', 1), ('Tornadus', 'Victini', 1), ('Tornadus', 'Nidoking', 1), ('Tornadus', 'Druddigon', 1), ('Jirachi', 'Magnezone', 2), ('Jirachi', 'Starmie', 1), ('Jirachi', 'Lugia', 1), ('Jirachi', 'Giratina', 1), ('Jirachi', 'Kyogre', 1), ('Jirachi', 'Arceus', 1), ('Jirachi', 'Forretress', 1), ('Magnezone', 'Starmie', 1), ('Throh', 'Dwebble', 1), ('Throh', 'Simipour', 1), ('Throh', 'Klang', 1), ('Throh', 'Zebstrika', 2), ('Throh', 'Jumpluff', 1), ('Throh', 'Maractus', 1), ('Throh', 'Beheeyem', 2), ('Throh', 'Mawile', 1), ('Throh', 'Swanna', 2), ('Throh', 'Banette', 1), ('Throh', 'Vileplume', 1), ('Throh', 'Relicanth', 1), ('Dwebble', 'Simipour', 1), ('Dwebble', 'Klang', 1), ('Dwebble', 'Zebstrika', 1), ('Dwebble', 'Jumpluff', 1), ('Simipour', 'Klang', 1), ('Simipour', 'Zebstrika', 1), ('Simipour', 'Jumpluff', 1), ('Klang', 'Zebstrika', 1), ('Klang', 'Jumpluff', 1), ('Zebstrika', 'Jumpluff', 1), ('Zebstrika', 'Beheeyem', 1), ('Zebstrika', 'Vileplume', 1), ('Zebstrika', 'Relicanth', 1), ('Zebstrika', 'Swanna', 1), ('Maractus', 'Beheeyem', 1), ('Maractus', 'Mawile', 1), ('Maractus', 'Swanna', 1), ('Maractus', 'Banette', 1), ('Beheeyem', 'Mawile', 1), ('Beheeyem', 'Swanna', 2), ('Beheeyem', 'Banette', 1), ('Beheeyem', 'Gabite', 1), ('Beheeyem', 'Simisage', 1), ('Beheeyem', 'Rampardos', 1), ('Beheeyem', 'Dodrio', 1), ('Beheeyem', 'Pelipper', 1), ('Beheeyem', 'Vileplume', 1), ('Beheeyem', 'Relicanth', 1), ('Mawile', 'Swanna', 1), ('Mawile', 'Banette', 1), ('Swanna', 'Banette', 1), ('Swanna', 'Vileplume', 1), ('Swanna', 'Relicanth', 1), ('Gabite', 'Simisage', 1), ('Gabite', 'Rampardos', 1), ('Gabite', 'Dodrio', 1), ('Gabite', 'Pelipper', 1), ('Simisage', 'Rampardos', 1), ('Simisage', 'Dodrio', 1), ('Simisage', 'Pelipper', 1), ('Rampardos', 'Dodrio', 1), ('Rampardos', 'Pelipper', 1), ('Dodrio', 'Pelipper', 1), ('Vileplume', 'Relicanth', 1), ('Scolipede', 'Mesprit', 1), ('Scolipede', 'Omastar', 1), ('Scolipede', 'Escavalier', 1), ('Scolipede', 'Uxie', 1), ('Mesprit', 'Omastar', 1), ('Mesprit', 'Escavalier', 1), ('Mesprit', 'Uxie', 1), ('Omastar', 'Escavalier', 1), ('Omastar', 'Uxie', 1), ('Escavalier', 'Uxie', 1), ('Uxie', 'Medicham', 1), ('Uxie', 'Manectric', 1), ('Uxie', 'Archeops', 1), ('Uxie', 'Hitmonchan', 1), ('Gallade', 'Moltres', 1), ('Gallade', 'Durant', 1), ('Gallade', 'Rhydon', 1), ('Gallade', 'Cryogonal', 1), ('Moltres', 'Durant', 1), ('Moltres', 'Rhydon', 1), ('Moltres', 'Cryogonal', 1), ('Durant', 'Rhydon', 2), ('Durant', 'Cryogonal', 1), ('Durant', 'Slowking', 1), ('Durant', 'Spiritomb', 1), ('Durant', 'Druddigon', 1), ('Durant', 'Roselia', 1), ('Rhydon', 'Cryogonal', 1), ('Rhydon', 'Slowking', 1), ('Rhydon', 'Spiritomb', 1), ('Rhydon', 'Druddigon', 1), ('Rhydon', 'Roselia', 1), ('Cryogonal', 'Spiritomb', 1), ('Cryogonal', 'Medicham', 1), ('Cryogonal', 'Druddigon', 1), ('Medicham', 'Manectric', 1), ('Medicham', 'Archeops', 1), ('Medicham', 'Hitmonchan', 1), ('Medicham', 'Spiritomb', 1), ('Medicham', 'Druddigon', 1), ('Manectric', 'Archeops', 1), ('Manectric', 'Hitmonchan', 1), ('Archeops', 'Hitmonchan', 1), ('Jynx', 'Haunter', 1), ('Jynx', 'Druddigon', 1), ('Jynx', 'Emboar', 1), ('Jynx', 'Sawsbuck', 1), ('Jynx', 'Kabutops', 1), ('Haunter', 'Druddigon', 1), ('Haunter', 'Emboar', 1), ('Haunter', 'Sawsbuck', 1), ('Haunter', 'Kabutops', 1), ('Druddigon', 'Emboar', 1), ('Druddigon', 'Sawsbuck', 1), ('Druddigon', 'Kabutops', 1), ('Druddigon', 'Spiritomb', 2), ('Druddigon', 'Slowking', 1), ('Druddigon', 'Roselia', 1), ('Druddigon', 'Blastoise', 1), ('Druddigon', 'Zapdos', 2), ('Druddigon', 'Roserade', 1), ('Druddigon', 'Flygon', 1), ('Druddigon', 'Victini', 2), ('Druddigon', 'Heracross', 1), ('Druddigon', 'Bisharp', 1), ('Druddigon', 'Nidoking', 1), ('Emboar', 'Sawsbuck', 1), ('Emboar', 'Kabutops', 1), ('Sawsbuck', 'Kabutops', 1), ('Kabutops', 'Deoxys', 1), ('Kabutops', 'Giratina', 1), ('Kabutops', 'Kyogre', 1), ('Kabutops', 'Arceus', 1), ('Kabutops', 'Palkia', 1), ('Spiritomb', 'Slowking', 1), ('Spiritomb', 'Roselia', 1), ('Slowking', 'Roselia', 1), ('Slowking', 'Zapdos', 1), ('Slowking', 'Roserade', 1), ('Slowking', 'Gligar', 1), ('Slowking', 'Umbreon', 1), ('Slowking', 'Hitmontop', 1), ('Deoxys', 'Darkrai', 2), ('Deoxys', 'Genesect', 5), ('Deoxys', 'Arceus', 8), ('Deoxys', 'Giratina', 7), ('Deoxys', 'Kyogre', 5), ('Deoxys', 'Palkia', 3), ('Deoxys', 'Groudon', 2), ('Deoxys', 'Latias', 2), ('Deoxys', 'Kingdra', 1), ('Deoxys', 'Dialga', 1), ('Darkrai', 'Genesect', 2), ('Darkrai', 'Arceus', 3), ('Darkrai', 'Giratina', 2), ('Darkrai', 'Groudon', 2), ('Darkrai', 'Latias', 1), ('Darkrai', 'Ho-oh', 1), ('Darkrai', 'Espeon', 1), ('Genesect', 'Arceus', 8), ('Genesect', 'Giratina', 5), ('Genesect', 'Groudon', 1), ('Genesect', 'Latias', 3), ('Genesect', 'Kyogre', 5), ('Genesect', 'Palkia', 2), ('Genesect', 'Ho-oh', 1), ('Genesect', 'Dialga', 1), ('Arceus', 'Giratina', 15), ('Arceus', 'Kyogre', 10), ('Arceus', 'Palkia', 4), ('Arceus', 'Groudon', 7), ('Arceus', 'Latias', 4), ('Arceus', 'Ho-oh', 3), ('Arceus', 'Espeon', 1), ('Arceus', 'Kingdra', 2), ('Arceus', 'Dialga', 3), ('Arceus', 'Smeargle', 1), ('Arceus', 'Cloyster', 1), ('Arceus', 'Forretress', 4), ('Arceus', 'Blaziken', 1), ('Arceus', 'Reshiram', 1), ('Arceus', 'Lugia', 3), ('Arceus', 'Gliscor', 1), ('Giratina', 'Kyogre', 9), ('Giratina', 'Palkia', 3), ('Giratina', 'Groudon', 4), ('Giratina', 'Ho-oh', 1), ('Giratina', 'Espeon', 1), ('Giratina', 'Latias', 1), ('Giratina', 'Kingdra', 2), ('Giratina', 'Dialga', 2), ('Giratina', 'Reshiram', 1), ('Giratina', 'Forretress', 3), ('Giratina', 'Lugia', 3), ('Giratina', 'Gliscor', 1), ('Kyogre', 'Palkia', 2), ('Kyogre', 'Latias', 2), ('Kyogre', 'Kingdra', 2), ('Kyogre', 'Dialga', 2), ('Kyogre', 'Lugia', 2), ('Kyogre', 'Forretress', 1), ('Palkia', 'Ho-oh', 1), ('Palkia', 'Groudon', 1), ('Groudon', 'Latias', 2), ('Groudon', 'Ho-oh', 2), ('Groudon', 'Espeon', 1), ('Groudon', 'Smeargle', 1), ('Groudon', 'Cloyster', 1), ('Groudon', 'Dialga', 1), ('Groudon', 'Forretress', 3), ('Groudon', 'Blaziken', 1), ('Groudon', 'Reshiram', 1), ('Groudon', 'Lugia', 1), ('Latias', 'Forretress', 1), ('Latias', 'Ho-oh', 1), ('Latias', 'Blaziken', 1), ('Ho-oh', 'Espeon', 1), ('Ho-oh', 'Forretress', 1), ('Ho-oh', 'Blaziken', 1), ('Kingdra', 'Dialga', 1), ('Dialga', 'Smeargle', 1), ('Dialga', 'Cloyster', 1), ('Smeargle', 'Cloyster', 1), ('Forretress', 'Blaziken', 1), ('Forretress', 'Reshiram', 1), ('Forretress', 'Lugia', 2), ('Blastoise', 'Zapdos', 2), ('Blastoise', 'Roserade', 1), ('Blastoise', 'Flygon', 1), ('Blastoise', 'Victini', 3), ('Blastoise', 'Rhyperior', 1), ('Blastoise', 'Cobalion', 1), ('Blastoise', 'Nidoqueen', 1), ('Blastoise', 'Bronzong', 1), ('Blastoise', 'Heracross', 1), ('Blastoise', 'Cresselia', 1), ('Blastoise', 'Togekiss', 1), ('Blastoise', 'Umbreon', 1), ('Blastoise', 'Gligar', 1), ('Zapdos', 'Roserade', 2), ('Zapdos', 'Flygon', 1), ('Zapdos', 'Victini', 2), ('Zapdos', 'Rhyperior', 1), ('Zapdos', 'Cobalion', 1), ('Zapdos', 'Heracross', 1), ('Zapdos', 'Bisharp', 1), ('Zapdos', 'Gligar', 1), ('Zapdos', 'Umbreon', 1), ('Zapdos', 'Hitmontop', 1), ('Roserade', 'Flygon', 1), ('Roserade', 'Victini', 1), ('Roserade', 'Gligar', 1), ('Roserade', 'Umbreon', 1), ('Roserade', 'Hitmontop', 1), ('Flygon', 'Victini', 1), ('Victini', 'Rhyperior', 1), ('Victini', 'Cobalion', 1), ('Victini', 'Nidoqueen', 1), ('Victini', 'Bronzong', 1), ('Victini', 'Heracross', 1), ('Victini', 'Nidoking', 1), ('Rhyperior', 'Cobalion', 1), ('Rhyperior', 'Qwilfish', 1), ('Rhyperior', 'Heracross', 1), ('Rhyperior', 'Togekiss', 1), ('Rhyperior', 'Umbreon', 1), ('Nidoqueen', 'Bronzong', 1), ('Nidoqueen', 'Heracross', 1), ('Bronzong', 'Heracross', 1), ('Heracross', 'Bisharp', 1), ('Heracross', 'Qwilfish', 1), ('Heracross', 'Togekiss', 1), ('Heracross', 'Umbreon', 1), ('Qwilfish', 'Togekiss', 1), ('Qwilfish', 'Umbreon', 1), ('Togekiss', 'Umbreon', 2), ('Togekiss', 'Cresselia', 1), ('Togekiss', 'Gligar', 1), ('Umbreon', 'Gligar', 2), ('Umbreon', 'Hitmontop', 1), ('Umbreon', 'Cresselia', 1), ('Gligar', 'Hitmontop', 1), ('Gligar', 'Cresselia', 1), ('Gligar', 'Darmanitan', 1), ('Gligar', 'Lanturn', 1), ('Gligar', 'Xatu', 1), ('Gligar', 'Mienshao', 1), ('Darmanitan', 'Lanturn', 1), ('Darmanitan', 'Xatu', 1), ('Darmanitan', 'Mienshao', 1), ('Lanturn', 'Xatu', 1), ('Lanturn', 'Mienshao', 1), ('Xatu', 'Mienshao', 1), ('Simisear', 'Kingler', 1), ('Simisear', 'Vanilluxe', 1), ('Simisear', 'Exploud', 2), ('Simisear', 'Sandshrew', 1), ('Simisear', 'Kecleon', 1), ('Simisear', 'Gastly', 1), ('Simisear', 'Dragonair', 1), ('Simisear', 'Boldore', 2), ('Simisear', 'Raticate', 1), ('Simisear', 'Beedrill', 1), ('Simisear', 'Emolga', 1), ('Kingler', 'Vanilluxe', 1), ('Kingler', 'Exploud', 1), ('Kingler', 'Sandshrew', 1), ('Kingler', 'Kecleon', 1), ('Vanilluxe', 'Exploud', 1), ('Vanilluxe', 'Sandshrew', 1), ('Vanilluxe', 'Kecleon', 1), ('Exploud', 'Sandshrew', 1), ('Exploud', 'Kecleon', 1), ('Exploud', 'Gastly', 1), ('Exploud', 'Dragonair', 1), ('Exploud', 'Boldore', 1), ('Sandshrew', 'Kecleon', 1), ('Sandshrew', 'Emolga', 1), ('Sandshrew', 'Clefairy', 1), ('Sandshrew', 'Chimecho', 1), ('Sandshrew', 'Beedrill', 1), ('Octillery', 'Raticate', 1), ('Octillery', 'Lampent', 1), ('Octillery', 'Baltoy', 1), ('Octillery', 'Shelgon', 1), ('Raticate', 'Lampent', 1), ('Raticate', 'Baltoy', 1), ('Raticate', 'Shelgon', 1), ('Raticate', 'Beedrill', 1), ('Raticate', 'Boldore', 1), ('Raticate', 'Emolga', 1), ('Lampent', 'Baltoy', 1), ('Lampent', 'Shelgon', 1), ('Baltoy', 'Shelgon', 1), ('Gastly', 'Dragonair', 1), ('Gastly', 'Boldore', 1), ('Dragonair', 'Boldore', 1), ('Boldore', 'Beedrill', 1), ('Boldore', 'Emolga', 1), ('Onix', 'Illumise', 1), ('Onix', 'Weepinbell', 1), ('Onix', 'Leafeon', 1), ('Onix', 'Bellossom', 1), ('Onix', 'Munchlax', 1), ('Illumise', 'Weepinbell', 1), ('Illumise', 'Leafeon', 1), ('Illumise', 'Bellossom', 1), ('Illumise', 'Munchlax', 1), ('Weepinbell', 'Leafeon', 1), ('Weepinbell', 'Bellossom', 1), ('Weepinbell', 'Munchlax', 1), ('Leafeon', 'Bellossom', 1), ('Leafeon', 'Munchlax', 1), ('Bellossom', 'Munchlax', 1), ('Beedrill', 'Emolga', 2), ('Beedrill', 'Clefairy', 1), ('Beedrill', 'Chimecho', 1), ('Emolga', 'Clefairy', 1), ('Emolga', 'Chimecho', 1), ('Clefairy', 'Chimecho', 1)])"
      ]
     },
     "execution_count": 42,
     "metadata": {},
     "output_type": "execute_result"
    }
   ],
   "source": [
    "for team in teams:\n",
    "    for pok in team:\n",
    "        if(pok in apariciones):\n",
    "            apariciones[pok] += 1\n",
    "        else:\n",
    "            apariciones[pok] = 1\n",
    "        G.add_node(pok, type1 = pokedex[pok]['type1'], type2 = pokedex[pok]['type2'])\n",
    "        \n",
    "\n",
    "edgeList = []\n",
    "for team in teams:\n",
    "    edgeList.append([x for x in it.combinations(team, 2)])\n",
    "    \n",
    "for perm in edgeList :\n",
    "    for pokPair in perm :\n",
    "        if G.has_edge(pokPair[0], pokPair[1]):\n",
    "            G[pokPair[0]][pokPair[1]]['weight'] += 1\n",
    "        else:\n",
    "            G.add_edge(pokPair[0], pokPair[1], weight = 1)\n",
    "G.edges.data('weight')"
   ]
  },
  {
   "cell_type": "code",
   "execution_count": 43,
   "metadata": {},
   "outputs": [
    {
     "data": {
      "image/png": "[encoded data removed]",
      "text/plain": [
       "<Figure size 432x288 with 1 Axes>"
      ]
     },
     "metadata": {},
     "output_type": "display_data"
    }
   ],
   "source": [
    "nx.draw(G)"
   ]
  },
  {
   "cell_type": "code",
   "execution_count": 44,
   "metadata": {},
   "outputs": [],
   "source": [
    "for pok in G.nodes :\n",
    "    G.nodes[pok]['teams'] = apariciones[pok]"
   ]
  },
  {
   "cell_type": "code",
   "execution_count": 45,
   "metadata": {},
   "outputs": [],
   "source": [
    "nx.write_gexf(G, \"Gen5Final.gexf\", version=\"1.2draft\")"
   ]
  },
  {
   "cell_type": "code",
   "execution_count": null,
   "metadata": {},
   "outputs": [],
   "source": []
  }
 ],
 "metadata": {
  "kernelspec": {
   "display_name": "Python 3",
   "language": "python",
   "name": "python3"
  },
  "language_info": {
   "codemirror_mode": {
    "name": "ipython",
    "version": 3
   },
   "file_extension": ".py",
   "mimetype": "text/x-python",
   "name": "python",
   "nbconvert_exporter": "python",
   "pygments_lexer": "ipython3",
   "version": "3.8.5"
  }
 },
 "nbformat": 4,
 "nbformat_minor": 4
}
